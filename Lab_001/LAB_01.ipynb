{
  "cells": [
    {
      "cell_type": "markdown",
      "metadata": {
        "id": "04oYJLBvvGQt"
      },
      "source": [
        "#Laboratorio 1\n",
        "Nombres:\n",
        "<h4>-David Franz Soliz Ortega<br></h4>\n",
        "<h4>-Luis Fabian Jorge Cedillo<br></h4>\n",
        "<h4>-Abel Mollo Condori<br></h4>\n",
        "<h4>-Luis Alberto Ibarra Calderon<br></h4>\n",
        "\n",
        "Dataset: https://www.kaggle.com/datasets/yakhyojon/automatidata?select=2017_Yellow_Taxi_Trip_Data.csv\n",
        "\n",
        "18 propiedades y tiene 22699 ejemplos"
      ]
    },
    {
      "cell_type": "code",
      "execution_count": 12,
      "metadata": {
        "id": "f0WGMMljlHQz"
      },
      "outputs": [],
      "source": [
        "# utilizado para manejos de directorios y rutas\n",
        "import os\n",
        "\n",
        "# Computacion vectorial y cientifica para python\n",
        "import numpy as np\n",
        "import pandas as pd\n",
        "# Librerias para graficación (trazado de gráficos)\n",
        "from matplotlib import pyplot as plt\n",
        "from mpl_toolkits.mplot3d import Axes3D  # Necesario para graficar superficies 3D\n",
        "\n",
        "# llama a matplotlib a embeber graficas dentro de los cuadernillos\n",
        "%matplotlib inline"
      ]
    },
    {
      "cell_type": "code",
      "source": [
        "from google.colab import drive\n",
        "drive.mount('/content/drive')"
      ],
      "metadata": {
        "colab": {
          "base_uri": "https://localhost:8080/"
        },
        "id": "Y05xSF-t4-cx",
        "outputId": "b56b5e26-d441-4361-f543-087648d5fb6b"
      },
      "execution_count": 2,
      "outputs": [
        {
          "output_type": "stream",
          "name": "stdout",
          "text": [
            "Mounted at /content/drive\n"
          ]
        }
      ]
    },
    {
      "cell_type": "markdown",
      "metadata": {
        "id": "G6-ykOwelHQ0"
      },
      "source": [
        "## Regresión lineal con multiples variables\n",
        "Implementamos la regresión lineal multivariable para encontrar los parámetros theta que mejor predicen el total_amount.\n",
        "Paso 1: Preparación y Normalización de Datos\n",
        "Primero, cargamos los datos y seleccionamos las características relevantes, que en este caso son trip_distance, fare_amount, extra, mta_tax, tip_amount, y tolls_amount."
      ]
    },
    {
      "cell_type": "code",
      "execution_count": 5,
      "metadata": {
        "colab": {
          "base_uri": "https://localhost:8080/"
        },
        "id": "pHl-w51eyP7a",
        "outputId": "b3ccf40f-fa0a-48df-801d-1e0a01a213a7"
      },
      "outputs": [
        {
          "output_type": "stream",
          "name": "stdout",
          "text": [
            "   Unnamed: 0  VendorID    tpep_pickup_datetime   tpep_dropoff_datetime  \\\n",
            "0    24870114         2   03/25/2017 8:55:43 AM   03/25/2017 9:09:47 AM   \n",
            "1    35634249         1   04/11/2017 2:53:28 PM   04/11/2017 3:19:58 PM   \n",
            "2   106203690         1   12/15/2017 7:26:56 AM   12/15/2017 7:34:08 AM   \n",
            "3    38942136         2   05/07/2017 1:17:59 PM   05/07/2017 1:48:14 PM   \n",
            "4    30841670         2  04/15/2017 11:32:20 PM  04/15/2017 11:49:03 PM   \n",
            "\n",
            "   passenger_count  trip_distance  RatecodeID store_and_fwd_flag  \\\n",
            "0                6           3.34           1                  N   \n",
            "1                1           1.80           1                  N   \n",
            "2                1           1.00           1                  N   \n",
            "3                1           3.70           1                  N   \n",
            "4                1           4.37           1                  N   \n",
            "\n",
            "   PULocationID  DOLocationID  payment_type  fare_amount  extra  mta_tax  \\\n",
            "0           100           231             1         13.0    0.0      0.5   \n",
            "1           186            43             1         16.0    0.0      0.5   \n",
            "2           262           236             1          6.5    0.0      0.5   \n",
            "3           188            97             1         20.5    0.0      0.5   \n",
            "4             4           112             2         16.5    0.5      0.5   \n",
            "\n",
            "   tip_amount  tolls_amount  improvement_surcharge  total_amount  \n",
            "0        2.76           0.0                    0.3         16.56  \n",
            "1        4.00           0.0                    0.3         20.80  \n",
            "2        1.45           0.0                    0.3          8.75  \n",
            "3        6.39           0.0                    0.3         27.69  \n",
            "4        0.00           0.0                    0.3         17.80  \n"
          ]
        }
      ],
      "source": [
        "# Cargar datos\n",
        "data = pd.read_csv('/content/drive/MyDrive/SIS420/Laboratorios/lab_01/tarifataxi.txt')\n",
        "\n",
        "# Mostrar las primeras filas del dataset para entender su estructura\n",
        "print(data.head())"
      ]
    },
    {
      "cell_type": "markdown",
      "metadata": {
        "id": "OSg0v3XnXDAw"
      },
      "source": [
        "#Seleccion de caracteristicas 'x' y la variable 'y'"
      ]
    },
    {
      "cell_type": "code",
      "execution_count": 6,
      "metadata": {
        "colab": {
          "base_uri": "https://localhost:8080/"
        },
        "id": "6BP5grkxlHQ0",
        "outputId": "6c46178f-7961-416f-a082-ce036f101025"
      },
      "outputs": [
        {
          "output_type": "stream",
          "name": "stdout",
          "text": [
            "Número de ejemplos en el dataset: 22699\n"
          ]
        }
      ],
      "source": [
        "# Seleccionamos las características relevantes\n",
        "# Por ejemplo, podríamos elegir 'trip_distance', 'fare_amount', 'extra', 'mta_tax', 'tip_amount', 'tolls_amount'\n",
        "X = data[['trip_distance', 'fare_amount', 'extra', 'mta_tax', 'tip_amount', 'tolls_amount']]\n",
        "\n",
        "# La variable objetivo es el 'total_amount'\n",
        "y = data['total_amount']\n",
        "\n",
        "# Número de ejemplos en el dataset\n",
        "m = y.size\n",
        "print(f'Número de ejemplos en el dataset: {m}')\n"
      ]
    },
    {
      "cell_type": "markdown",
      "metadata": {
        "id": "NtGB0EqeXQSp"
      },
      "source": [
        "# Normalización de características\n",
        "La normalización se realiza para escalar las características de manera que todas estén en un rango similar, evitando que alguna característica con valores grandes domine las demás durante el entrenamiento."
      ]
    },
    {
      "cell_type": "code",
      "execution_count": 7,
      "metadata": {
        "colab": {
          "base_uri": "https://localhost:8080/"
        },
        "id": "81ZL-no0ymBB",
        "outputId": "fcf84c71-c7ca-4e93-8480-93e0edf38e84"
      },
      "outputs": [
        {
          "output_type": "stream",
          "name": "stdout",
          "text": [
            "   trip_distance  fare_amount     extra   mta_tax  tip_amount  tolls_amount\n",
            "0       0.116802    -0.002011 -0.719681  0.064747    0.330012     -0.223375\n",
            "1      -0.304759     0.224515 -0.719681  0.064747    0.772779     -0.223375\n",
            "2      -0.523752    -0.492818 -0.719681  0.064747   -0.137751     -0.223375\n",
            "3       0.215348     0.564305 -0.719681  0.064747    1.626179     -0.223375\n",
            "4       0.398755     0.262270  0.360031  0.064747   -0.655504     -0.223375\n"
          ]
        }
      ],
      "source": [
        "def featureNormalize(X):\n",
        "    # Crear copias para evitar modificar el original\n",
        "    X_norm = X.copy()\n",
        "    mu = np.zeros(X.shape[1])\n",
        "    sigma = np.zeros(X.shape[1])\n",
        "\n",
        "    # Calcular la media y la desviación estándar\n",
        "    mu = np.mean(X, axis=0)\n",
        "    sigma = np.std(X, axis=0)\n",
        "\n",
        "    # Normalizar las características\n",
        "    X_norm = (X - mu) / sigma\n",
        "\n",
        "    return X_norm, mu, sigma\n",
        "\n",
        "# Normalizamos las características\n",
        "X_norm, mu, sigma = featureNormalize(X)\n",
        "\n",
        "# Verificar los valores normalizados\n",
        "print(X_norm.head())\n"
      ]
    },
    {
      "cell_type": "markdown",
      "metadata": {
        "id": "TwsSjwNwYLVy"
      },
      "source": [
        "# Añadir el término de intersección (columna de unos) a X"
      ]
    },
    {
      "cell_type": "code",
      "execution_count": 8,
      "metadata": {
        "colab": {
          "base_uri": "https://localhost:8080/"
        },
        "id": "9SGAn-N2yriZ",
        "outputId": "ef1cde6d-139d-4da8-8ede-5447d9addeec"
      },
      "outputs": [
        {
          "output_type": "stream",
          "name": "stdout",
          "text": [
            "X después de añadir la columna de unos:\n",
            "[[ 1.          0.11680167 -0.00201075 -0.71968127  0.06474688  0.33001156\n",
            "  -0.2233746 ]\n",
            " [ 1.         -0.30475918  0.22451549 -0.71968127  0.06474688  0.77277943\n",
            "  -0.2233746 ]\n",
            " [ 1.         -0.52375182 -0.49281761 -0.71968127  0.06474688 -0.13775126\n",
            "  -0.2233746 ]\n",
            " [ 1.          0.21534836  0.56430485 -0.71968127  0.06474688  1.62617878\n",
            "  -0.2233746 ]\n",
            " [ 1.          0.3987547   0.26226986  0.3600309   0.06474688 -0.65550401\n",
            "  -0.2233746 ]]\n"
          ]
        }
      ],
      "source": [
        "# Añadir una columna de unos a X (para el término de intersección)\n",
        "X = np.concatenate([np.ones((m, 1)), X_norm], axis=1)\n",
        "print(f'X después de añadir la columna de unos:\\n{X[:5]}')\n"
      ]
    },
    {
      "cell_type": "markdown",
      "metadata": {
        "id": "xSxMhhTpYSdI"
      },
      "source": [
        "# Implementación del descenso por el gradiente\n",
        "Función de Costo: Calcula qué tan lejos están las predicciones del modelo de los valores reales.\n",
        "Descenso por Gradiente: Optimiza los parámetros theta minimizando la función de costo iterativamente."
      ]
    },
    {
      "cell_type": "code",
      "execution_count": 9,
      "metadata": {
        "colab": {
          "base_uri": "https://localhost:8080/",
          "height": 484
        },
        "id": "J9PuDn4UyxOp",
        "outputId": "f94ce446-ae71-4bd9-d78c-0ee6b488b64d"
      },
      "outputs": [
        {
          "output_type": "display_data",
          "data": {
            "text/plain": [
              "<Figure size 640x480 with 1 Axes>"
            ],
            "image/png": "[encoded data removed]"
          },
          "metadata": {}
        },
        {
          "output_type": "stream",
          "name": "stdout",
          "text": [
            "Theta calculado por el descenso por el gradiente: [1.63105022e+01 5.06155622e-03 1.32423665e+01 4.60009778e-01\n",
            " 5.01152000e-02 2.80383944e+00 1.39854695e+00]\n"
          ]
        }
      ],
      "source": [
        "def computeCostMulti(X, y, theta):\n",
        "    m = y.shape[0]  # Número de ejemplos de entrenamiento\n",
        "    J = 0\n",
        "    J = (1/(2 * m)) * np.sum(np.square(np.dot(X, theta) - y))\n",
        "    return J\n",
        "\n",
        "def gradientDescentMulti(X, y, theta, alpha, num_iters):\n",
        "    m = y.shape[0]  # Número de ejemplos de entrenamiento\n",
        "    theta = theta.copy()  # Crear una copia de theta\n",
        "    J_history = []  # Para almacenar la historia del costo en cada iteración\n",
        "\n",
        "    for i in range(num_iters):\n",
        "        theta = theta - (alpha / m) * (np.dot(X, theta) - y).dot(X)\n",
        "        J_history.append(computeCostMulti(X, y, theta))\n",
        "\n",
        "    return theta, J_history\n",
        "\n",
        "# Inicializamos theta con ceros\n",
        "theta = np.zeros(X.shape[1])\n",
        "\n",
        "# Configuración del descenso por el gradiente\n",
        "alpha = 0.01  # Tasa de aprendizaje\n",
        "num_iters = 4000  # Número de iteraciones\n",
        "\n",
        "# Ejecutar el descenso por el gradiente\n",
        "theta, J_history = gradientDescentMulti(X, y, theta, alpha, num_iters)\n",
        "\n",
        "# Graficar la convergencia del costo\n",
        "plt.plot(np.arange(len(J_history)), J_history, lw=2)\n",
        "plt.xlabel('Número de iteraciones')\n",
        "plt.ylabel('Costo J')\n",
        "plt.show()\n",
        "\n",
        "# Mostrar los resultados finales\n",
        "print(f'Theta calculado por el descenso por el gradiente: {theta}')\n"
      ]
    },
    {
      "cell_type": "markdown",
      "metadata": {
        "id": "mNQbkXAFZBdZ"
      },
      "source": [
        "# Predicción con el modelo ajustado\n",
        "Podemos usar el modelo entrenado para hacer predicciones. Por ejemplo, predecir el total_amount para un viaje con ciertas características:"
      ]
    },
    {
      "cell_type": "code",
      "execution_count": 10,
      "metadata": {
        "colab": {
          "base_uri": "https://localhost:8080/"
        },
        "id": "JzVciRyHy0pR",
        "outputId": "6d6feeb2-a7ab-4f47-fd45-a7e78c03a3df"
      },
      "outputs": [
        {
          "output_type": "stream",
          "name": "stdout",
          "text": [
            "El total_amount predicho para el viaje es: $12.80\n"
          ]
        }
      ],
      "source": [
        "# Ejemplo de valores de entrada (modifica según lo que quieras predecir)\n",
        "# Supongamos que tenemos un viaje con una distancia de 2 millas, una tarifa de $10, un extra de $0.50, un MTA tax de $0.50, un tip de $1.50, y tolls de $0\n",
        "X_example = [1, 2, 10, 0.5, 0.5, 1.5, 0]\n",
        "\n",
        "# Normalizamos las características usando los valores mu y sigma que calculamos anteriormente\n",
        "X_example[1:] = (X_example[1:] - mu) / sigma\n",
        "\n",
        "# Realizamos la predicción\n",
        "predicted_total_amount = np.dot(X_example, theta)\n",
        "print(f'El total_amount predicho para el viaje es: ${predicted_total_amount:.2f}')\n"
      ]
    },
    {
      "cell_type": "markdown",
      "metadata": {
        "id": "whiFVE_ZZFlZ"
      },
      "source": [
        "# Implementación de la ecuación normal (opcional)\n",
        "Si quieres probar la ecuación normal, que no requiere de iteraciones:"
      ]
    },
    {
      "cell_type": "code",
      "execution_count": 11,
      "metadata": {
        "colab": {
          "base_uri": "https://localhost:8080/"
        },
        "id": "PL46d2hosgkK",
        "outputId": "5a60fc77-044a-45ec-adb8-7520027fd794"
      },
      "outputs": [
        {
          "output_type": "stream",
          "name": "stdout",
          "text": [
            "El total_amount predicho con la ecuación normal es: $12.80\n"
          ]
        }
      ],
      "source": [
        "def normalEqn(X, y):\n",
        "    theta = np.linalg.inv(X.T @ X) @ X.T @ y\n",
        "    return theta\n",
        "\n",
        "# Calcular theta usando la ecuación normal\n",
        "theta_normal = normalEqn(X, y)\n",
        "\n",
        "# Predicción con la ecuación normal\n",
        "predicted_total_amount_normal = np.dot(X_example, theta_normal)\n",
        "print(f'El total_amount predicho con la ecuación normal es: ${predicted_total_amount_normal:.2f}')\n"
      ]
    }
  ],
  "metadata": {
    "colab": {
      "provenance": []
    },
    "kernelspec": {
      "display_name": "Python 3",
      "language": "python",
      "name": "python3"
    },
    "language_info": {
      "codemirror_mode": {
        "name": "ipython",
        "version": 3
      },
      "file_extension": ".py",
      "mimetype": "text/x-python",
      "name": "python",
      "nbconvert_exporter": "python",
      "pygments_lexer": "ipython3",
      "version": "3.8.5"
    }
  },
  "nbformat": 4,
  "nbformat_minor": 0
}