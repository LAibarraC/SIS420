{
 "cells": [
  {
   "cell_type": "code",
   "execution_count": 1,
   "metadata": {},
   "outputs": [],
   "source": [
    "# Importaciones\n",
    "import torch\n",
    "import torch.optim as optim\n",
    "from torchvision import datasets, transforms\n",
    "from tqdm import tqdm"
   ]
  },
  {
   "cell_type": "code",
   "execution_count": 2,
   "metadata": {},
   "outputs": [
    {
     "name": "stdout",
     "output_type": "stream",
     "text": [
      "True\n",
      "1\n",
      "NVIDIA GeForce RTX 3070 Laptop GPU\n"
     ]
    }
   ],
   "source": [
    "print(torch.cuda.is_available())\n",
    "print(torch.cuda.device_count())\n",
    "print(torch.cuda.get_device_name(0))  # Nombre de tu GPU"
   ]
  },
  {
   "cell_type": "code",
   "execution_count": 3,
   "metadata": {},
   "outputs": [
    {
     "name": "stdout",
     "output_type": "stream",
     "text": [
      "['AVG', 'AggregationType', 'AliasDb', 'AnyType', 'Argument', 'ArgumentSpec', 'AwaitType', 'BFloat16Storage', 'BFloat16Tensor', 'BenchmarkConfig', 'BenchmarkExecutionStats', 'Block', 'BoolStorage', 'BoolTensor', 'BoolType', 'BufferDict', 'ByteStorage', 'ByteTensor', 'CallStack', 'Capsule', 'CharStorage', 'CharTensor', 'ClassType', 'Code', 'CompilationUnit', 'CompleteArgumentSpec', 'ComplexDoubleStorage', 'ComplexFloatStorage', 'ComplexType', 'ConcreteModuleType', 'ConcreteModuleTypeBuilder', 'DeepCopyMemoTable', 'DeserializationStorageContext', 'DeviceObjType', 'DictType', 'DisableTorchFunction', 'DisableTorchFunctionSubclass', 'DispatchKey', 'DispatchKeySet', 'DoubleStorage', 'DoubleTensor', 'EnumType', 'ErrorReport', 'Event', 'ExcludeDispatchKeyGuard', 'ExecutionPlan', 'FatalError', 'FileCheck', 'FloatStorage', 'FloatTensor', 'FloatType', 'FunctionSchema', 'Future', 'FutureType', 'Generator', 'GradScaler', 'Gradient', 'Graph', 'GraphExecutorState', 'HalfStorage', 'HalfTensor', 'IODescriptor', 'InferredType', 'IntStorage', 'IntTensor', 'IntType', 'InterfaceType', 'JITException', 'ListType', 'LiteScriptModule', 'LockingLogger', 'LoggerBase', 'LongStorage', 'LongTensor', 'ModuleDict', 'Node', 'NoneType', 'NoopLogger', 'NumberType', 'OperatorInfo', 'OptionalType', 'OutOfMemoryError', 'PRIVATE_OPS', 'ParameterDict', 'PyObjectType', 'PyTorchFileReader', 'PyTorchFileWriter', 'QInt32Storage', 'QInt8Storage', 'QUInt2x4Storage', 'QUInt4x2Storage', 'QUInt8Storage', 'RRefType', 'SUM', 'ScriptClass', 'ScriptClassFunction', 'ScriptDict', 'ScriptDictIterator', 'ScriptDictKeyIterator', 'ScriptFunction', 'ScriptList', 'ScriptListIterator', 'ScriptMethod', 'ScriptModule', 'ScriptModuleSerializer', 'ScriptObject', 'ScriptObjectProperty', 'SerializationStorageContext', 'ShortStorage', 'ShortTensor', 'Size', 'StaticModule', 'Storage', 'StorageBase', 'Stream', 'StreamObjType', 'StringType', 'SymBool', 'SymBoolType', 'SymFloat', 'SymInt', 'SymIntType', 'TYPE_CHECKING', 'Tag', 'Tensor', 'TensorType', 'ThroughputBenchmark', 'TracingState', 'TupleType', 'Type', 'TypedStorage', 'USE_GLOBAL_DEPS', 'USE_RTLD_GLOBAL_WITH_LIBTORCH', 'UnionType', 'UntypedStorage', 'Use', 'Value', '_Any', '_C', '_Callable', '_Dict', '_GLOBAL_DEVICE_CONTEXT', '_InputT', '_Optional', '_ParamSpec', '_RetT', '_Set', '_TorchCompileInductorWrapper', '_TorchCompileWrapper', '_TritonLibrary', '_Tuple', '_Type', '_TypeIs', '_TypeVar', '_Union', '_VF', '__all__', '__all_and_float_types', '__annotations__', '__builtins__', '__cached__', '__config__', '__doc__', '__file__', '__future__', '__getattr__', '__loader__', '__name__', '__package__', '__path__', '__spec__', '__version__', '_adaptive_avg_pool2d', '_adaptive_avg_pool3d', '_add_batch_dim', '_add_relu', '_add_relu_', '_addmm_activation', '_aminmax', '_amp_foreach_non_finite_check_and_unscale_', '_amp_update_scale_', '_as_tensor_fullprec', '_assert', '_assert_async', '_assert_scalar', '_assert_tensor_metadata', '_awaits', '_batch_norm_impl_index', '_cast_Byte', '_cast_Char', '_cast_Double', '_cast_Float', '_cast_Half', '_cast_Int', '_cast_Long', '_cast_Short', '_check', '_check_index', '_check_is_size', '_check_not_implemented', '_check_tensor_all', '_check_tensor_all_with', '_check_type', '_check_value', '_check_with', '_choose_qparams_per_tensor', '_chunk_cat', '_classes', '_coalesce', '_compile', '_compute_linear_combination', '_conj', '_conj_copy', '_conj_physical', '_constrain_as_size', '_convert_indices_from_coo_to_csr', '_convert_indices_from_csr_to_coo', '_convert_weight_to_int4pack', '_convert_weight_to_int4pack_for_cpu', '_convolution', '_convolution_mode', '_copy_from', '_copy_from_and_resize', '_cslt_compress', '_cslt_sparse_mm', '_cslt_sparse_mm_search', '_ctc_loss', '_cudnn_ctc_loss', '_cudnn_init_dropout_state', '_cudnn_rnn', '_cudnn_rnn_flatten_weight', '_cufft_clear_plan_cache', '_cufft_get_plan_cache_max_size', '_cufft_get_plan_cache_size', '_cufft_set_plan_cache_max_size', '_cummax_helper', '_cummin_helper', '_custom_op', '_custom_ops', '_debug_has_internal_overlap', '_decomp', '_deprecated_attrs', '_dim_arange', '_dirichlet_grad', '_disable_dynamo', '_disable_functionalization', '_dispatch', '_dynamo', '_efficientzerotensor', '_embedding_bag', '_embedding_bag_forward_only', '_empty_affine_quantized', '_empty_per_channel_affine_quantized', '_enable_functionalization', '_environment', '_euclidean_dist', '_export', '_fake_quantize_learnable_per_channel_affine', '_fake_quantize_learnable_per_tensor_affine', '_fake_quantize_per_tensor_affine_cachemask_tensor_qparams', '_fft_c2c', '_fft_c2r', '_fft_r2c', '_fill_mem_eff_dropout_mask_', '_foobar', '_foreach_abs', '_foreach_abs_', '_foreach_acos', '_foreach_acos_', '_foreach_add', '_foreach_add_', '_foreach_addcdiv', '_foreach_addcdiv_', '_foreach_addcmul', '_foreach_addcmul_', '_foreach_asin', '_foreach_asin_', '_foreach_atan', '_foreach_atan_', '_foreach_ceil', '_foreach_ceil_', '_foreach_clamp_max', '_foreach_clamp_max_', '_foreach_clamp_min', '_foreach_clamp_min_', '_foreach_copy_', '_foreach_cos', '_foreach_cos_', '_foreach_cosh', '_foreach_cosh_', '_foreach_div', '_foreach_div_', '_foreach_erf', '_foreach_erf_', '_foreach_erfc', '_foreach_erfc_', '_foreach_exp', '_foreach_exp_', '_foreach_expm1', '_foreach_expm1_', '_foreach_floor', '_foreach_floor_', '_foreach_frac', '_foreach_frac_', '_foreach_lerp', '_foreach_lerp_', '_foreach_lgamma', '_foreach_lgamma_', '_foreach_log', '_foreach_log10', '_foreach_log10_', '_foreach_log1p', '_foreach_log1p_', '_foreach_log2', '_foreach_log2_', '_foreach_log_', '_foreach_max', '_foreach_maximum', '_foreach_maximum_', '_foreach_minimum', '_foreach_minimum_', '_foreach_mul', '_foreach_mul_', '_foreach_neg', '_foreach_neg_', '_foreach_norm', '_foreach_pow', '_foreach_pow_', '_foreach_reciprocal', '_foreach_reciprocal_', '_foreach_round', '_foreach_round_', '_foreach_rsqrt', '_foreach_rsqrt_', '_foreach_sigmoid', '_foreach_sigmoid_', '_foreach_sign', '_foreach_sign_', '_foreach_sin', '_foreach_sin_', '_foreach_sinh', '_foreach_sinh_', '_foreach_sqrt', '_foreach_sqrt_', '_foreach_sub', '_foreach_sub_', '_foreach_tan', '_foreach_tan_', '_foreach_tanh', '_foreach_tanh_', '_foreach_trunc', '_foreach_trunc_', '_foreach_zero_', '_freeze_functional_tensor', '_from_functional_tensor', '_functional_assert_async', '_functional_assert_scalar', '_functional_sym_constrain_range', '_functional_sym_constrain_range_for_size', '_functionalize_apply_view_metas', '_functionalize_are_all_mutations_hidden_from_autograd', '_functionalize_are_all_mutations_under_no_grad_or_inference_mode', '_functionalize_commit_update', '_functionalize_enable_reapply_views', '_functionalize_get_storage_size', '_functionalize_has_data_mutation', '_functionalize_has_metadata_mutation', '_functionalize_is_multi_output_view', '_functionalize_is_symbolic', '_functionalize_mark_mutation_hidden_from_autograd', '_functionalize_replace', '_functionalize_set_storage_changed', '_functionalize_sync', '_functionalize_unsafe_set', '_functionalize_was_inductor_storage_resized', '_functionalize_was_storage_changed', '_functorch', '_fused_adagrad_', '_fused_adam_', '_fused_adamw_', '_fused_dropout', '_fused_moving_avg_obs_fq_helper', '_fused_sdp_choice', '_fused_sgd_', '_fw_primal_copy', '_get_origin', '_grid_sampler_2d_cpu_fallback', '_guards', '_has_compatible_shallow_copy_type', '_higher_order_ops', '_histogramdd_bin_edges', '_histogramdd_from_bin_cts', '_histogramdd_from_bin_tensors', '_import_device_backends', '_import_dotted_name', '_index_put_impl_', '_indices_copy', '_inductor', '_initExtension', '_int_mm', '_is_all_true', '_is_any_true', '_is_device_backend_autoload_enabled', '_is_functional_tensor', '_is_functional_tensor_base', '_is_zerotensor', '_jit_internal', '_lazy_clone', '_lazy_modules', '_library', '_linalg_check_errors', '_linalg_det', '_linalg_eigh', '_linalg_slogdet', '_linalg_solve_ex', '_linalg_svd', '_linalg_utils', '_load_global_deps', '_lobpcg', '_log_softmax', '_log_softmax_backward_data', '_logcumsumexp', '_logging', '_lowrank', '_lstm_mps', '_lu_with_info', '_make_dep_token', '_make_dual', '_make_dual_copy', '_make_per_channel_quantized_tensor', '_make_per_tensor_quantized_tensor', '_masked_scale', '_masked_softmax', '_meta_registrations', '_mirror_autograd_meta_to', '_mixed_dtypes_linear', '_mkldnn', '_mkldnn_reshape', '_mkldnn_transpose', '_mkldnn_transpose_', '_mps_convolution', '_mps_convolution_transpose', '_namedtensor_internals', '_native_batch_norm_legit', '_native_batch_norm_legit_no_training', '_native_multi_head_attention', '_neg_view', '_neg_view_copy', '_nested_compute_contiguous_strides_offsets', '_nested_from_padded', '_nested_from_padded_and_nested_example', '_nested_from_padded_tensor', '_nested_get_jagged_dummy', '_nested_get_lengths', '_nested_get_max_seqlen', '_nested_get_min_seqlen', '_nested_get_offsets', '_nested_get_ragged_idx', '_nested_get_values', '_nested_get_values_copy', '_nested_tensor_from_mask', '_nested_tensor_from_mask_left_aligned', '_nested_tensor_from_tensor_list', '_nested_tensor_softmax_with_shape', '_nested_view_from_buffer', '_nested_view_from_buffer_copy', '_nested_view_from_jagged', '_nested_view_from_jagged_copy', '_nnpack_available', '_nnpack_spatial_convolution', '_numpy', '_ops', '_overload', '_pack_padded_sequence', '_pad_packed_sequence', '_pin_memory', '_preload_cuda_deps', '_prelu_kernel', '_prims', '_prims_common', '_print', '_propagate_xla_data', '_refs', '_register_device_module', '_remove_batch_dim', '_reshape_alias_copy', '_reshape_from_tensor', '_resize_output_', '_rowwise_prune', '_running_with_deploy', '_safe_softmax', '_sample_dirichlet', '_saturate_weight_to_fp16', '_scaled_dot_product_attention_math', '_scaled_dot_product_attention_math_for_mps', '_scaled_dot_product_cudnn_attention', '_scaled_dot_product_efficient_attention', '_scaled_dot_product_flash_attention', '_scaled_dot_product_flash_attention_for_cpu', '_scaled_mm', '_segment_reduce', '_shape_as_tensor', '_sobol_engine_draw', '_sobol_engine_ff_', '_sobol_engine_initialize_state_', '_sobol_engine_scramble_', '_softmax', '_softmax_backward_data', '_sources', '_sparse_broadcast_to', '_sparse_broadcast_to_copy', '_sparse_csr_prod', '_sparse_csr_sum', '_sparse_log_softmax_backward_data', '_sparse_semi_structured_addmm', '_sparse_semi_structured_apply', '_sparse_semi_structured_apply_dense', '_sparse_semi_structured_linear', '_sparse_semi_structured_mm', '_sparse_semi_structured_tile', '_sparse_softmax_backward_data', '_sparse_sparse_matmul', '_sparse_sum', '_stack', '_standard_gamma', '_standard_gamma_grad', '_storage_classes', '_strobelight', '_subclasses', '_sym_acos', '_sym_asin', '_sym_atan', '_sym_cos', '_sym_cosh', '_sym_log2', '_sym_sin', '_sym_sinh', '_sym_sqrt', '_sym_tan', '_sym_tanh', '_sync', '_tensor', '_tensor_classes', '_tensor_str', '_test_autograd_multiple_dispatch', '_test_autograd_multiple_dispatch_view', '_test_autograd_multiple_dispatch_view_copy', '_test_check_tensor', '_test_functorch_fallback', '_test_parallel_materialize', '_test_serialization_subcmul', '_to_cpu', '_to_functional_tensor', '_to_sparse_semi_structured', '_transform_bias_rescale_qkv', '_transformer_encoder_layer_fwd', '_trilinear', '_triton_multi_head_attention', '_triton_scaled_dot_attention', '_unique', '_unique2', '_unpack_dual', '_unsafe_index', '_unsafe_index_put', '_unsafe_masked_index', '_unsafe_masked_index_put_accumulate', '_use_cudnn_ctc_loss', '_use_cudnn_rnn_flatten_weight', '_utils', '_utils_internal', '_validate_compressed_sparse_indices', '_validate_sparse_bsc_tensor_args', '_validate_sparse_bsr_tensor_args', '_validate_sparse_compressed_tensor_args', '_validate_sparse_coo_tensor_args', '_validate_sparse_csc_tensor_args', '_validate_sparse_csr_tensor_args', '_values_copy', '_vendor', '_vmap_internals', '_warn_typed_storage_removal', '_weight_int4pack_mm', '_weight_int4pack_mm_for_cpu', '_weight_int8pack_mm', '_weight_norm', '_weight_norm_interface', '_weights_only_unpickler', '_wrapped_linear_prepack', '_wrapped_quantized_linear_prepacked', 'abs', 'abs_', 'absolute', 'accelerator', 'acos', 'acos_', 'acosh', 'acosh_', 'adaptive_avg_pool1d', 'adaptive_max_pool1d', 'add', 'addbmm', 'addcdiv', 'addcmul', 'addmm', 'addmv', 'addmv_', 'addr', 'adjoint', 'affine_grid_generator', 'alias_copy', 'align_tensors', 'all', 'allclose', 'alpha_dropout', 'alpha_dropout_', 'amax', 'amin', 'aminmax', 'amp', 'angle', 'any', 'ao', 'arange', 'arccos', 'arccos_', 'arccosh', 'arccosh_', 'arcsin', 'arcsin_', 'arcsinh', 'arcsinh_', 'arctan', 'arctan2', 'arctan_', 'arctanh', 'arctanh_', 'are_deterministic_algorithms_enabled', 'argmax', 'argmin', 'argsort', 'argwhere', 'as_strided', 'as_strided_', 'as_strided_copy', 'as_strided_scatter', 'as_tensor', 'asarray', 'asin', 'asin_', 'asinh', 'asinh_', 'atan', 'atan2', 'atan_', 'atanh', 'atanh_', 'atleast_1d', 'atleast_2d', 'atleast_3d', 'autocast', 'autocast_decrement_nesting', 'autocast_increment_nesting', 'autograd', 'avg_pool1d', 'backends', 'baddbmm', 'bartlett_window', 'batch_norm', 'batch_norm_backward_elemt', 'batch_norm_backward_reduce', 'batch_norm_elemt', 'batch_norm_gather_stats', 'batch_norm_gather_stats_with_counts', 'batch_norm_stats', 'batch_norm_update_stats', 'bernoulli', 'bfloat16', 'bilinear', 'binary_cross_entropy_with_logits', 'bincount', 'binomial', 'bit', 'bits16', 'bits1x8', 'bits2x4', 'bits4x2', 'bits8', 'bitwise_and', 'bitwise_left_shift', 'bitwise_not', 'bitwise_or', 'bitwise_right_shift', 'bitwise_xor', 'blackman_window', 'block_diag', 'bmm', 'bool', 'broadcast_shapes', 'broadcast_tensors', 'broadcast_to', 'bucketize', 'builtins', 'can_cast', 'cartesian_prod', 'cat', 'ccol_indices_copy', 'cdist', 'cdouble', 'ceil', 'ceil_', 'celu', 'celu_', 'cfloat', 'chain_matmul', 'chalf', 'channel_shuffle', 'channels_last', 'channels_last_3d', 'cholesky', 'cholesky_inverse', 'cholesky_solve', 'choose_qparams_optimized', 'chunk', 'clamp', 'clamp_', 'clamp_max', 'clamp_max_', 'clamp_min', 'clamp_min_', 'classes', 'classproperty', 'clear_autocast_cache', 'clip', 'clip_', 'clone', 'col_indices_copy', 'column_stack', 'combinations', 'compile', 'compiled_with_cxx11_abi', 'compiler', 'complex', 'complex128', 'complex32', 'complex64', 'concat', 'concatenate', 'cond', 'conj', 'conj_physical', 'conj_physical_', 'constant_pad_nd', 'contiguous_format', 'conv1d', 'conv2d', 'conv3d', 'conv_tbc', 'conv_transpose1d', 'conv_transpose2d', 'conv_transpose3d', 'convolution', 'copysign', 'corrcoef', 'cos', 'cos_', 'cosh', 'cosh_', 'cosine_embedding_loss', 'cosine_similarity', 'count_nonzero', 'cov', 'cpp', 'cpu', 'cross', 'crow_indices_copy', 'ctc_loss', 'ctypes', 'cuda', 'cudnn_affine_grid_generator', 'cudnn_batch_norm', 'cudnn_convolution', 'cudnn_convolution_add_relu', 'cudnn_convolution_relu', 'cudnn_convolution_transpose', 'cudnn_grid_sampler', 'cudnn_is_acceptable', 'cummax', 'cummin', 'cumprod', 'cumsum', 'cumulative_trapezoid', 'default_generator', 'deg2rad', 'deg2rad_', 'dequantize', 'det', 'detach', 'detach_', 'detach_copy', 'device', 'diag', 'diag_embed', 'diagflat', 'diagonal', 'diagonal_copy', 'diagonal_scatter', 'diff', 'digamma', 'dist', 'distributed', 'distributions', 'div', 'divide', 'dot', 'double', 'dropout', 'dropout_', 'dsmm', 'dsplit', 'dstack', 'dtype', 'e', 'eig', 'einsum', 'embedding', 'embedding_bag', 'embedding_renorm_', 'empty', 'empty_like', 'empty_permuted', 'empty_quantized', 'empty_strided', 'enable_grad', 'eq', 'equal', 'erf', 'erf_', 'erfc', 'erfc_', 'erfinv', 'exp', 'exp2', 'exp2_', 'exp_', 'expand_copy', 'expm1', 'expm1_', 'export', 'eye', 'fake_quantize_per_channel_affine', 'fake_quantize_per_tensor_affine', 'fbgemm_linear_fp16_weight', 'fbgemm_linear_fp16_weight_fp32_activation', 'fbgemm_linear_int8_weight', 'fbgemm_linear_int8_weight_fp32_activation', 'fbgemm_linear_quantize_weight', 'fbgemm_pack_gemm_matrix_fp16', 'fbgemm_pack_quantized_matrix', 'feature_alpha_dropout', 'feature_alpha_dropout_', 'feature_dropout', 'feature_dropout_', 'fft', 'fill', 'fill_', 'finfo', 'fix', 'fix_', 'flatten', 'flip', 'fliplr', 'flipud', 'float', 'float16', 'float32', 'float64', 'float8_e4m3fn', 'float8_e4m3fnuz', 'float8_e5m2', 'float8_e5m2fnuz', 'float_power', 'floor', 'floor_', 'floor_divide', 'fmax', 'fmin', 'fmod', 'fork', 'frac', 'frac_', 'frexp', 'frobenius_norm', 'from_dlpack', 'from_file', 'from_numpy', 'frombuffer', 'full', 'full_like', 'func', 'functional', 'fused_moving_avg_obs_fake_quant', 'futures', 'fx', 'gather', 'gcd', 'gcd_', 'ge', 'geqrf', 'ger', 'get_autocast_cpu_dtype', 'get_autocast_dtype', 'get_autocast_gpu_dtype', 'get_autocast_ipu_dtype', 'get_autocast_xla_dtype', 'get_default_device', 'get_default_dtype', 'get_deterministic_debug_mode', 'get_device', 'get_device_module', 'get_file_path', 'get_float32_matmul_precision', 'get_num_interop_threads', 'get_num_threads', 'get_rng_state', 'glob', 'gradient', 'greater', 'greater_equal', 'grid_sampler', 'grid_sampler_2d', 'grid_sampler_3d', 'group_norm', 'gru', 'gru_cell', 'gt', 'half', 'hamming_window', 'hann_window', 'hardshrink', 'has_lapack', 'has_mkl', 'has_openmp', 'has_spectral', 'heaviside', 'hinge_embedding_loss', 'histc', 'histogram', 'histogramdd', 'hsmm', 'hsplit', 'hspmm', 'hstack', 'hub', 'hypot', 'i0', 'i0_', 'igamma', 'igammac', 'iinfo', 'imag', 'import_ir_module', 'import_ir_module_from_buffer', 'importlib', 'index_add', 'index_copy', 'index_fill', 'index_put', 'index_put_', 'index_reduce', 'index_select', 'indices_copy', 'inf', 'inference_mode', 'init_num_threads', 'initial_seed', 'inner', 'inspect', 'instance_norm', 'int', 'int1', 'int16', 'int2', 'int3', 'int32', 'int4', 'int5', 'int6', 'int64', 'int7', 'int8', 'int_repr', 'inverse', 'is_anomaly_check_nan_enabled', 'is_anomaly_enabled', 'is_autocast_cache_enabled', 'is_autocast_cpu_enabled', 'is_autocast_enabled', 'is_autocast_ipu_enabled', 'is_autocast_xla_enabled', 'is_complex', 'is_conj', 'is_deterministic_algorithms_warn_only_enabled', 'is_distributed', 'is_floating_point', 'is_grad_enabled', 'is_inference', 'is_inference_mode_enabled', 'is_neg', 'is_nonzero', 'is_same_size', 'is_signed', 'is_storage', 'is_tensor', 'is_vulkan_available', 'is_warn_always_enabled', 'isclose', 'isfinite', 'isin', 'isinf', 'isnan', 'isneginf', 'isposinf', 'isreal', 'istft', 'jagged', 'jit', 'kaiser_window', 'kl_div', 'kron', 'kthvalue', 'layer_norm', 'layout', 'lcm', 'lcm_', 'ldexp', 'ldexp_', 'le', 'legacy_contiguous_format', 'lerp', 'less', 'less_equal', 'lgamma', 'library', 'linalg', 'linspace', 'load', 'lobpcg', 'log', 'log10', 'log10_', 'log1p', 'log1p_', 'log2', 'log2_', 'log_', 'log_softmax', 'logaddexp', 'logaddexp2', 'logcumsumexp', 'logdet', 'logical_and', 'logical_not', 'logical_or', 'logical_xor', 'logit', 'logit_', 'logspace', 'logsumexp', 'long', 'lstm', 'lstm_cell', 'lstsq', 'lt', 'lu', 'lu_solve', 'lu_unpack', 'manual_seed', 'margin_ranking_loss', 'masked', 'masked_fill', 'masked_scatter', 'masked_select', 'math', 'matmul', 'matrix_exp', 'matrix_power', 'matrix_rank', 'max', 'max_pool1d', 'max_pool1d_with_indices', 'max_pool2d', 'max_pool3d', 'maximum', 'mean', 'median', 'memory_format', 'merge_type_from_type_comment', 'meshgrid', 'min', 'minimum', 'miopen_batch_norm', 'miopen_convolution', 'miopen_convolution_add_relu', 'miopen_convolution_relu', 'miopen_convolution_transpose', 'miopen_depthwise_convolution', 'miopen_rnn', 'mkldnn_adaptive_avg_pool2d', 'mkldnn_convolution', 'mkldnn_linear_backward_weights', 'mkldnn_max_pool2d', 'mkldnn_max_pool3d', 'mkldnn_rnn_layer', 'mm', 'mode', 'monitor', 'moveaxis', 'movedim', 'mps', 'msort', 'mtia', 'mul', 'multinomial', 'multiply', 'multiprocessing', 'mv', 'mvlgamma', 'nan', 'nan_to_num', 'nan_to_num_', 'nanmean', 'nanmedian', 'nanquantile', 'nansum', 'narrow', 'narrow_copy', 'native_batch_norm', 'native_channel_shuffle', 'native_dropout', 'native_group_norm', 'native_layer_norm', 'native_norm', 'ne', 'neg', 'neg_', 'negative', 'negative_', 'nested', 'newaxis', 'nextafter', 'nn', 'no_grad', 'nonzero', 'nonzero_static', 'norm', 'norm_except_dim', 'normal', 'not_equal', 'nuclear_norm', 'numel', 'ones', 'ones_like', 'onnx', 'ops', 'optim', 'orgqr', 'ormqr', 'os', 'outer', 'overrides', 'package', 'pairwise_distance', 'parse_ir', 'parse_schema', 'parse_type_comment', 'pca_lowrank', 'pdist', 'per_channel_affine', 'per_channel_affine_float_qparams', 'per_channel_symmetric', 'per_tensor_affine', 'per_tensor_symmetric', 'permute', 'permute_copy', 'pi', 'pinverse', 'pixel_shuffle', 'pixel_unshuffle', 'platform', 'poisson', 'poisson_nll_loss', 'polar', 'polygamma', 'positive', 'pow', 'prelu', 'prepare_multiprocessing_environment', 'preserve_format', 'prod', 'profiler', 'promote_types', 'put', 'q_per_channel_axis', 'q_per_channel_scales', 'q_per_channel_zero_points', 'q_scale', 'q_zero_point', 'qint32', 'qint8', 'qr', 'qscheme', 'quantile', 'quantization', 'quantize_per_channel', 'quantize_per_tensor', 'quantize_per_tensor_dynamic', 'quantized_batch_norm', 'quantized_gru', 'quantized_gru_cell', 'quantized_lstm', 'quantized_lstm_cell', 'quantized_max_pool1d', 'quantized_max_pool2d', 'quantized_max_pool3d', 'quantized_rnn_relu_cell', 'quantized_rnn_tanh_cell', 'quasirandom', 'quint2x4', 'quint4x2', 'quint8', 'rad2deg', 'rad2deg_', 'rand', 'rand_like', 'randint', 'randint_like', 'randn', 'randn_like', 'random', 'randperm', 'range', 'ravel', 'read_vitals', 'real', 'reciprocal', 'reciprocal_', 'relu', 'relu_', 'remainder', 'renorm', 'repeat_interleave', 'reshape', 'resize_as_', 'resize_as_sparse_', 'resolve_conj', 'resolve_neg', 'result_type', 'return_types', 'rms_norm', 'rnn_relu', 'rnn_relu_cell', 'rnn_tanh', 'rnn_tanh_cell', 'roll', 'rot90', 'round', 'round_', 'row_indices_copy', 'row_stack', 'rrelu', 'rrelu_', 'rsqrt', 'rsqrt_', 'rsub', 'saddmm', 'save', 'scalar_tensor', 'scatter', 'scatter_add', 'scatter_reduce', 'searchsorted', 'seed', 'segment_reduce', 'select', 'select_copy', 'select_scatter', 'selu', 'selu_', 'serialization', 'set_anomaly_enabled', 'set_autocast_cache_enabled', 'set_autocast_cpu_dtype', 'set_autocast_cpu_enabled', 'set_autocast_dtype', 'set_autocast_enabled', 'set_autocast_gpu_dtype', 'set_autocast_ipu_dtype', 'set_autocast_ipu_enabled', 'set_autocast_xla_dtype', 'set_autocast_xla_enabled', 'set_default_device', 'set_default_dtype', 'set_default_tensor_type', 'set_deterministic_debug_mode', 'set_float32_matmul_precision', 'set_flush_denormal', 'set_grad_enabled', 'set_num_interop_threads', 'set_num_threads', 'set_printoptions', 'set_rng_state', 'set_vital', 'set_warn_always', 'sgn', 'short', 'sigmoid', 'sigmoid_', 'sign', 'signal', 'signbit', 'sin', 'sin_', 'sinc', 'sinc_', 'sinh', 'sinh_', 'slice_copy', 'slice_inverse', 'slice_scatter', 'slogdet', 'smm', 'softmax', 'solve', 'sort', 'sparse', 'sparse_bsc', 'sparse_bsc_tensor', 'sparse_bsr', 'sparse_bsr_tensor', 'sparse_compressed_tensor', 'sparse_coo', 'sparse_coo_tensor', 'sparse_csc', 'sparse_csc_tensor', 'sparse_csr', 'sparse_csr_tensor', 'special', 'split', 'split_copy', 'split_with_sizes', 'split_with_sizes_copy', 'spmm', 'sqrt', 'sqrt_', 'square', 'square_', 'squeeze', 'squeeze_copy', 'sspaddmm', 'stack', 'std', 'std_mean', 'stft', 'storage', 'strided', 'sub', 'subtract', 'sum', 'svd', 'svd_lowrank', 'swapaxes', 'swapdims', 'sym_constrain_range', 'sym_constrain_range_for_size', 'sym_float', 'sym_fresh_size', 'sym_int', 'sym_ite', 'sym_max', 'sym_min', 'sym_not', 'sym_sqrt', 'sym_sum', 'symeig', 'sys', 't', 't_copy', 'take', 'take_along_dim', 'tan', 'tan_', 'tanh', 'tanh_', 'tensor', 'tensor_split', 'tensordot', 'testing', 'textwrap', 'threading', 'threshold', 'threshold_', 'tile', 'to_dlpack', 'topk', 'torch', 'torch_version', 'trace', 'transpose', 'transpose_copy', 'trapezoid', 'trapz', 'triangular_solve', 'tril', 'tril_indices', 'triplet_margin_loss', 'triu', 'triu_indices', 'true_divide', 'trunc', 'trunc_', 'typename', 'types', 'uint1', 'uint16', 'uint2', 'uint3', 'uint32', 'uint4', 'uint5', 'uint6', 'uint64', 'uint7', 'uint8', 'unbind', 'unbind_copy', 'unflatten', 'unfold_copy', 'unify_type_list', 'unique', 'unique_consecutive', 'unravel_index', 'unsafe_chunk', 'unsafe_split', 'unsafe_split_with_sizes', 'unsqueeze', 'unsqueeze_copy', 'use_deterministic_algorithms', 'utils', 'values_copy', 'vander', 'var', 'var_mean', 'vdot', 'version', 'view_as_complex', 'view_as_complex_copy', 'view_as_real', 'view_as_real_copy', 'view_copy', 'vitals_enabled', 'vmap', 'vsplit', 'vstack', 'wait', 'where', 'while_loop', 'windows', 'xlogy', 'xlogy_', 'xpu', 'zero_', 'zeros', 'zeros_like']\n"
     ]
    }
   ],
   "source": [
    "print(dir(torch))  # Debe incluir '_utils' en la lista"
   ]
  },
  {
   "cell_type": "code",
   "execution_count": 4,
   "metadata": {},
   "outputs": [],
   "source": [
    "torch.cuda.empty_cache() "
   ]
  },
  {
   "cell_type": "code",
   "execution_count": 5,
   "metadata": {},
   "outputs": [],
   "source": [
    "import torch.nn as nn\n",
    "\n",
    "# ReLU -> ReLU(x)=max(0,x) devuelve el valor x si es mayor que 0, de lo contrario devuelve 0\n",
    "# BatchNorm -> Normaliza la salida de la capa anterior, manteniendo la media y varianza\n",
    "\n",
    "class FruitMLP(nn.Module):\n",
    "    def __init__(self):\n",
    "        super().__init__()\n",
    "        self.layers = nn.Sequential(\n",
    "            nn.Flatten(), # Aplana la imagen de entrada\n",
    "\n",
    "            # capa de entrada -> primera capa oculta\n",
    "            nn.Linear(100*100*3, 512),  # Capa amplia para fondos variables\n",
    "            nn.BatchNorm1d(512), # Normalización para estabilizar la red, a una dimension\n",
    "            nn.ReLU(),\n",
    "            nn.Dropout(0.5), # Dropout para evitar sobreajuste\n",
    "            \n",
    "            # primera capa oculta -> segunda capa oculta\n",
    "            nn.Linear(512, 128), # Refinamiento de características\n",
    "            nn.BatchNorm1d(128), # Normalización para estabilizar la red, a una dimension\n",
    "            nn.ReLU(),\n",
    "            \n",
    "            # segunda capa oculta -> capa de salida\n",
    "            nn.Linear(128, 169) # Salida (169 frutas)\n",
    "        )\n",
    "    \n",
    "    def forward(self, x):\n",
    "        # x es la imagen de entrada\n",
    "        return self.layers(x)"
   ]
  },
  {
   "cell_type": "code",
   "execution_count": 6,
   "metadata": {},
   "outputs": [
    {
     "name": "stdout",
     "output_type": "stream",
     "text": [
      "Modelo creado!\n"
     ]
    }
   ],
   "source": [
    "# 2. Instanciar el modelo\n",
    "model = FruitMLP()\n",
    "print(\"Modelo creado!\")"
   ]
  },
  {
   "cell_type": "code",
   "execution_count": 7,
   "metadata": {},
   "outputs": [
    {
     "name": "stdout",
     "output_type": "stream",
     "text": [
      "Dispositivo seleccionado: cuda\n",
      "¡Modelo enviado a cuda !\n"
     ]
    }
   ],
   "source": [
    "# 3. Verificar GPU y mover el modelo\n",
    "device = torch.device(\"cuda\" if torch.cuda.is_available() else \"cpu\")\n",
    "print(f\"Dispositivo seleccionado: {device}\")\n",
    "\n",
    "# limpiar_memoria()  # Libera memoria de la GPU antes de mover el modelo\n",
    "model = model.to(device)  # Mueve el modelo a GPU/CPU\n",
    "print(\"¡Modelo enviado a\", device, \"!\")"
   ]
  },
  {
   "cell_type": "code",
   "execution_count": 8,
   "metadata": {},
   "outputs": [
    {
     "name": "stdout",
     "output_type": "stream",
     "text": [
      "Media (Train): [0.6726435422897339, 0.5792443752288818, 0.508468508720398]\n",
      "Std (Train): [0.26989850401878357, 0.32609033584594727, 0.3682645261287689]\n"
     ]
    }
   ],
   "source": [
    "# Transformación TEMPORAL para cálculo (sin normalización)\n",
    "temp_transform = transforms.Compose([\n",
    "    transforms.Resize((100, 100)),\n",
    "    transforms.ToTensor(),\n",
    "])\n",
    "# Cargar el conjunto de datos de entrenamiento en la GPU\n",
    "train_dataset_temp = datasets.ImageFolder(\n",
    "    root='C:/Users/OMEN/Documents/7mo Semestre-01-2025/Inteligencia Artificial/Lab-002/fruits-360/Training',\n",
    "    transform=temp_transform\n",
    ")\n",
    "\n",
    "train_loader_temp = torch.utils.data.DataLoader( # dataLolder -> es un objeto iterable\n",
    "    train_dataset_temp,\n",
    "    batch_size=64,  # Tamaño del lote\n",
    "    shuffle=False,   # Barajar los datos en False\n",
    ")\n",
    "# Cálculo de la media y desviación estándar\n",
    "mean = torch.zeros(3).to(device)  # Inicializa el tensor de media\n",
    "std = torch.zeros(3).to(device)   # Inicializa el tensor de desviación estándar\n",
    "total_pixels = 0  # Inicializa el contador de píxeles\n",
    "\n",
    "# Iterar sobre el conjunto de datos de entrenamiento\n",
    "# para calcular la media y desviación estándar\n",
    "# (sin normalización)\n",
    "for images, _ in train_loader_temp:\n",
    "    images = images.to(device)  # Manda batch a GPU\n",
    "    batch_pixels = images.size(0) * images.size(2) * images.size(3)  # batch * altura * ancho\n",
    "    images = images.view(images.size(0), 3, -1)  # [batch, canales, pixels]\n",
    "    \n",
    "    mean += images.mean(2).sum(0)  # Suma medias por canal\n",
    "    std += images.std(2).sum(0)    # Suma std por canal\n",
    "    total_pixels += batch_pixels\n",
    "\n",
    "mean /= len(train_loader_temp.dataset)\n",
    "std /= len(train_loader_temp.dataset)\n",
    "\n",
    "print(\"Media (Train):\", mean.cpu().tolist()) # media \n",
    "print(\"Std (Train):\", std.cpu().tolist()) # desviación estándar / standard deviation"
   ]
  },
  {
   "cell_type": "code",
   "execution_count": 15,
   "metadata": {},
   "outputs": [
    {
     "name": "stdout",
     "output_type": "stream",
     "text": [
      "clase:Apple 6\n",
      "Tensor de la imagen en el índice 4000:\n",
      "tensor([[[1.0000, 1.0000, 1.0000,  ..., 1.0000, 1.0000, 1.0000],\n",
      "         [1.0000, 1.0000, 1.0000,  ..., 1.0000, 1.0000, 1.0000],\n",
      "         [1.0000, 1.0000, 1.0000,  ..., 1.0000, 1.0000, 1.0000],\n",
      "         ...,\n",
      "         [1.0000, 1.0000, 1.0000,  ..., 1.0000, 1.0000, 1.0000],\n",
      "         [1.0000, 1.0000, 1.0000,  ..., 1.0000, 1.0000, 1.0000],\n",
      "         [1.0000, 1.0000, 1.0000,  ..., 1.0000, 1.0000, 1.0000]],\n",
      "\n",
      "        [[0.9961, 0.9961, 0.9961,  ..., 1.0000, 1.0000, 1.0000],\n",
      "         [0.9961, 0.9961, 0.9961,  ..., 1.0000, 1.0000, 1.0000],\n",
      "         [0.9961, 0.9961, 0.9961,  ..., 1.0000, 1.0000, 1.0000],\n",
      "         ...,\n",
      "         [1.0000, 1.0000, 1.0000,  ..., 1.0000, 1.0000, 1.0000],\n",
      "         [1.0000, 1.0000, 1.0000,  ..., 1.0000, 1.0000, 1.0000],\n",
      "         [1.0000, 1.0000, 1.0000,  ..., 1.0000, 1.0000, 1.0000]],\n",
      "\n",
      "        [[1.0000, 1.0000, 1.0000,  ..., 1.0000, 1.0000, 1.0000],\n",
      "         [1.0000, 1.0000, 1.0000,  ..., 1.0000, 1.0000, 1.0000],\n",
      "         [1.0000, 1.0000, 1.0000,  ..., 1.0000, 1.0000, 1.0000],\n",
      "         ...,\n",
      "         [1.0000, 1.0000, 1.0000,  ..., 1.0000, 1.0000, 1.0000],\n",
      "         [1.0000, 1.0000, 1.0000,  ..., 1.0000, 1.0000, 1.0000],\n",
      "         [1.0000, 1.0000, 1.0000,  ..., 1.0000, 1.0000, 1.0000]]])\n"
     ]
    }
   ],
   "source": [
    "indice = 4000  # Cambia este número al que desees\n",
    "\n",
    "# Obtener la imagen específica\n",
    "imagen, etiqueta = train_dataset_temp[indice]\n",
    "print(f\"clase:{train_dataset_temp.classes[etiqueta]}\")\n",
    "\n",
    "# Imprimir el tensor\n",
    "print(f\"Tensor de la imagen en el índice {indice}:\")\n",
    "print(imagen)"
   ]
  },
  {
   "cell_type": "code",
   "execution_count": 17,
   "metadata": {},
   "outputs": [
    {
     "name": "stdout",
     "output_type": "stream",
     "text": [
      "clase:Apple 10\n",
      "tensor([[[1.0000, 1.0000, 1.0000,  ..., 1.0000, 1.0000, 1.0000],\n",
      "         [1.0000, 1.0000, 1.0000,  ..., 1.0000, 1.0000, 1.0000],\n",
      "         [1.0000, 1.0000, 1.0000,  ..., 1.0000, 1.0000, 1.0000],\n",
      "         ...,\n",
      "         [1.0000, 1.0000, 1.0000,  ..., 1.0000, 1.0000, 1.0000],\n",
      "         [1.0000, 1.0000, 1.0000,  ..., 1.0000, 1.0000, 1.0000],\n",
      "         [1.0000, 1.0000, 1.0000,  ..., 1.0000, 1.0000, 1.0000]],\n",
      "\n",
      "        [[1.0000, 1.0000, 0.9961,  ..., 1.0000, 1.0000, 1.0000],\n",
      "         [1.0000, 1.0000, 0.9961,  ..., 1.0000, 1.0000, 1.0000],\n",
      "         [1.0000, 1.0000, 1.0000,  ..., 1.0000, 1.0000, 1.0000],\n",
      "         ...,\n",
      "         [1.0000, 1.0000, 1.0000,  ..., 1.0000, 1.0000, 1.0000],\n",
      "         [1.0000, 1.0000, 1.0000,  ..., 1.0000, 1.0000, 1.0000],\n",
      "         [1.0000, 1.0000, 1.0000,  ..., 1.0000, 1.0000, 1.0000]],\n",
      "\n",
      "        [[1.0000, 1.0000, 1.0000,  ..., 1.0000, 1.0000, 1.0000],\n",
      "         [1.0000, 1.0000, 1.0000,  ..., 1.0000, 1.0000, 1.0000],\n",
      "         [1.0000, 1.0000, 1.0000,  ..., 1.0000, 1.0000, 1.0000],\n",
      "         ...,\n",
      "         [1.0000, 1.0000, 1.0000,  ..., 1.0000, 1.0000, 1.0000],\n",
      "         [1.0000, 1.0000, 1.0000,  ..., 1.0000, 1.0000, 1.0000],\n",
      "         [1.0000, 1.0000, 1.0000,  ..., 1.0000, 1.0000, 1.0000]]])\n"
     ]
    }
   ],
   "source": [
    "imagen , etiqueta= train_dataset_temp[300]\n",
    "print(f\"clase:{train_dataset_temp.classes[etiqueta]}\")\n",
    "print(imagen)"
   ]
  },
  {
   "cell_type": "code",
   "execution_count": 24,
   "metadata": {},
   "outputs": [
    {
     "name": "stdout",
     "output_type": "stream",
     "text": [
      "Clases: 169\n",
      "Imágenes en entrenamiento: 86308\n",
      "Imágenes en test: 28863\n",
      "Clases: ['Apple 10', 'Apple 12', 'Apple 13', 'Apple 14', 'Apple 17', 'Apple 19', 'Apple 6', 'Apple 9', 'Apple Braeburn 1', 'Apple Core 1', 'Apple Crimson Snow 1', 'Apple Golden 1', 'Apple Golden 2', 'Apple Golden 3', 'Apple Granny Smith 1', 'Apple Pink Lady 1', 'Apple Red 1', 'Apple Red 2', 'Apple Red 3', 'Apple Red Delicious 1', 'Apple Red Yellow 1', 'Apple Red Yellow 2', 'Apple Rotten 1', 'Apple hit 1', 'Apple worm 1', 'Apricot 1', 'Avocado 1', 'Avocado ripe 1', 'Banana 1', 'Banana 3', 'Banana Lady Finger 1', 'Banana Red 1', 'Beans 1', 'Beetroot 1', 'Blackberrie 1', 'Blackberrie 2', 'Blackberrie half rippen 1', 'Blackberrie not rippen 1', 'Blueberry 1', 'Cabbage red 1', 'Cabbage white 1', 'Cactus fruit 1', 'Cactus fruit green 1', 'Cactus fruit red 1', 'Cantaloupe 1', 'Cantaloupe 2', 'Carambula 1', 'Carrot 1', 'Cauliflower 1', 'Cherimoya 1', 'Cherry 1', 'Cherry 2', 'Cherry Rainier 1', 'Cherry Wax Black 1', 'Cherry Wax Red 1', 'Cherry Wax Yellow 1', 'Cherry Wax not rippen 1', 'Chestnut 1', 'Clementine 1', 'Cocos 1', 'Corn 1', 'Corn Husk 1', 'Cucumber 1', 'Cucumber 10', 'Cucumber 3', 'Cucumber 9', 'Cucumber Ripe 1', 'Cucumber Ripe 2', 'Dates 1', 'Eggplant 1', 'Eggplant long 1', 'Fig 1', 'Ginger Root 1', 'Gooseberry 1', 'Granadilla 1', 'Grape Blue 1', 'Grape Pink 1', 'Grape White 1', 'Grape White 2', 'Grape White 3', 'Grape White 4', 'Grapefruit Pink 1', 'Grapefruit White 1', 'Guava 1', 'Hazelnut 1', 'Huckleberry 1', 'Kaki 1', 'Kiwi 1', 'Kohlrabi 1', 'Kumquats 1', 'Lemon 1', 'Lemon Meyer 1', 'Limes 1', 'Lychee 1', 'Mandarine 1', 'Mango 1', 'Mango Red 1', 'Mangostan 1', 'Maracuja 1', 'Melon Piel de Sapo 1', 'Mulberry 1', 'Nectarine 1', 'Nectarine Flat 1', 'Nut Forest 1', 'Nut Pecan 1', 'Onion Red 1', 'Onion Red Peeled 1', 'Onion White 1', 'Orange 1', 'Papaya 1', 'Passion Fruit 1', 'Peach 1', 'Peach 2', 'Peach Flat 1', 'Pear 1', 'Pear 2', 'Pear 3', 'Pear Abate 1', 'Pear Forelle 1', 'Pear Kaiser 1', 'Pear Monster 1', 'Pear Red 1', 'Pear Stone 1', 'Pear Williams 1', 'Pepino 1', 'Pepper Green 1', 'Pepper Orange 1', 'Pepper Red 1', 'Pepper Yellow 1', 'Physalis 1', 'Physalis with Husk 1', 'Pineapple 1', 'Pineapple Mini 1', 'Pistachio 1', 'Pitahaya Red 1', 'Plum 1', 'Plum 2', 'Plum 3', 'Pomegranate 1', 'Pomelo Sweetie 1', 'Potato Red 1', 'Potato Red Washed 1', 'Potato Sweet 1', 'Potato White 1', 'Quince 1', 'Quince 2', 'Quince 3', 'Quince 4', 'Rambutan 1', 'Raspberry 1', 'Redcurrant 1', 'Salak 1', 'Strawberry 1', 'Strawberry Wedge 1', 'Tamarillo 1', 'Tangelo 1', 'Tomato 1', 'Tomato 2', 'Tomato 3', 'Tomato 4', 'Tomato Cherry Red 1', 'Tomato Heart 1', 'Tomato Maroon 1', 'Tomato Yellow 1', 'Tomato not Ripened 1', 'Walnut 1', 'Watermelon 1', 'Zucchini 1', 'Zucchini dark 1']\n",
      "indice de clases: {'Apple 10': 0, 'Apple 12': 1, 'Apple 13': 2, 'Apple 14': 3, 'Apple 17': 4, 'Apple 19': 5, 'Apple 6': 6, 'Apple 9': 7, 'Apple Braeburn 1': 8, 'Apple Core 1': 9, 'Apple Crimson Snow 1': 10, 'Apple Golden 1': 11, 'Apple Golden 2': 12, 'Apple Golden 3': 13, 'Apple Granny Smith 1': 14, 'Apple Pink Lady 1': 15, 'Apple Red 1': 16, 'Apple Red 2': 17, 'Apple Red 3': 18, 'Apple Red Delicious 1': 19, 'Apple Red Yellow 1': 20, 'Apple Red Yellow 2': 21, 'Apple Rotten 1': 22, 'Apple hit 1': 23, 'Apple worm 1': 24, 'Apricot 1': 25, 'Avocado 1': 26, 'Avocado ripe 1': 27, 'Banana 1': 28, 'Banana 3': 29, 'Banana Lady Finger 1': 30, 'Banana Red 1': 31, 'Beans 1': 32, 'Beetroot 1': 33, 'Blackberrie 1': 34, 'Blackberrie 2': 35, 'Blackberrie half rippen 1': 36, 'Blackberrie not rippen 1': 37, 'Blueberry 1': 38, 'Cabbage red 1': 39, 'Cabbage white 1': 40, 'Cactus fruit 1': 41, 'Cactus fruit green 1': 42, 'Cactus fruit red 1': 43, 'Cantaloupe 1': 44, 'Cantaloupe 2': 45, 'Carambula 1': 46, 'Carrot 1': 47, 'Cauliflower 1': 48, 'Cherimoya 1': 49, 'Cherry 1': 50, 'Cherry 2': 51, 'Cherry Rainier 1': 52, 'Cherry Wax Black 1': 53, 'Cherry Wax Red 1': 54, 'Cherry Wax Yellow 1': 55, 'Cherry Wax not rippen 1': 56, 'Chestnut 1': 57, 'Clementine 1': 58, 'Cocos 1': 59, 'Corn 1': 60, 'Corn Husk 1': 61, 'Cucumber 1': 62, 'Cucumber 10': 63, 'Cucumber 3': 64, 'Cucumber 9': 65, 'Cucumber Ripe 1': 66, 'Cucumber Ripe 2': 67, 'Dates 1': 68, 'Eggplant 1': 69, 'Eggplant long 1': 70, 'Fig 1': 71, 'Ginger Root 1': 72, 'Gooseberry 1': 73, 'Granadilla 1': 74, 'Grape Blue 1': 75, 'Grape Pink 1': 76, 'Grape White 1': 77, 'Grape White 2': 78, 'Grape White 3': 79, 'Grape White 4': 80, 'Grapefruit Pink 1': 81, 'Grapefruit White 1': 82, 'Guava 1': 83, 'Hazelnut 1': 84, 'Huckleberry 1': 85, 'Kaki 1': 86, 'Kiwi 1': 87, 'Kohlrabi 1': 88, 'Kumquats 1': 89, 'Lemon 1': 90, 'Lemon Meyer 1': 91, 'Limes 1': 92, 'Lychee 1': 93, 'Mandarine 1': 94, 'Mango 1': 95, 'Mango Red 1': 96, 'Mangostan 1': 97, 'Maracuja 1': 98, 'Melon Piel de Sapo 1': 99, 'Mulberry 1': 100, 'Nectarine 1': 101, 'Nectarine Flat 1': 102, 'Nut Forest 1': 103, 'Nut Pecan 1': 104, 'Onion Red 1': 105, 'Onion Red Peeled 1': 106, 'Onion White 1': 107, 'Orange 1': 108, 'Papaya 1': 109, 'Passion Fruit 1': 110, 'Peach 1': 111, 'Peach 2': 112, 'Peach Flat 1': 113, 'Pear 1': 114, 'Pear 2': 115, 'Pear 3': 116, 'Pear Abate 1': 117, 'Pear Forelle 1': 118, 'Pear Kaiser 1': 119, 'Pear Monster 1': 120, 'Pear Red 1': 121, 'Pear Stone 1': 122, 'Pear Williams 1': 123, 'Pepino 1': 124, 'Pepper Green 1': 125, 'Pepper Orange 1': 126, 'Pepper Red 1': 127, 'Pepper Yellow 1': 128, 'Physalis 1': 129, 'Physalis with Husk 1': 130, 'Pineapple 1': 131, 'Pineapple Mini 1': 132, 'Pistachio 1': 133, 'Pitahaya Red 1': 134, 'Plum 1': 135, 'Plum 2': 136, 'Plum 3': 137, 'Pomegranate 1': 138, 'Pomelo Sweetie 1': 139, 'Potato Red 1': 140, 'Potato Red Washed 1': 141, 'Potato Sweet 1': 142, 'Potato White 1': 143, 'Quince 1': 144, 'Quince 2': 145, 'Quince 3': 146, 'Quince 4': 147, 'Rambutan 1': 148, 'Raspberry 1': 149, 'Redcurrant 1': 150, 'Salak 1': 151, 'Strawberry 1': 152, 'Strawberry Wedge 1': 153, 'Tamarillo 1': 154, 'Tangelo 1': 155, 'Tomato 1': 156, 'Tomato 2': 157, 'Tomato 3': 158, 'Tomato 4': 159, 'Tomato Cherry Red 1': 160, 'Tomato Heart 1': 161, 'Tomato Maroon 1': 162, 'Tomato Yellow 1': 163, 'Tomato not Ripened 1': 164, 'Walnut 1': 165, 'Watermelon 1': 166, 'Zucchini 1': 167, 'Zucchini dark 1': 168}\n",
      "clases de test: ['Apple 10', 'Apple 12', 'Apple 13', 'Apple 14', 'Apple 17', 'Apple 19', 'Apple 6', 'Apple 9', 'Apple Braeburn 1', 'Apple Core 1', 'Apple Crimson Snow 1', 'Apple Golden 1', 'Apple Golden 2', 'Apple Golden 3', 'Apple Granny Smith 1', 'Apple Pink Lady 1', 'Apple Red 1', 'Apple Red 2', 'Apple Red 3', 'Apple Red Delicious 1', 'Apple Red Yellow 1', 'Apple Red Yellow 2', 'Apple Rotten 1', 'Apple hit 1', 'Apple worm 1', 'Apricot 1', 'Avocado 1', 'Avocado ripe 1', 'Banana 1', 'Banana 3', 'Banana Lady Finger 1', 'Banana Red 1', 'Beans 1', 'Beetroot 1', 'Blackberrie 1', 'Blackberrie 2', 'Blackberrie half rippen 1', 'Blackberrie not rippen 1', 'Blueberry 1', 'Cabbage red 1', 'Cabbage white 1', 'Cactus fruit 1', 'Cactus fruit green 1', 'Cactus fruit red 1', 'Cantaloupe 1', 'Cantaloupe 2', 'Carambula 1', 'Carrot 1', 'Cauliflower 1', 'Cherimoya 1', 'Cherry 1', 'Cherry 2', 'Cherry Rainier 1', 'Cherry Wax Black 1', 'Cherry Wax Red 1', 'Cherry Wax Yellow 1', 'Cherry Wax not rippen 1', 'Chestnut 1', 'Clementine 1', 'Cocos 1', 'Corn 1', 'Corn Husk 1', 'Cucumber 1', 'Cucumber 10', 'Cucumber 3', 'Cucumber 9', 'Cucumber Ripe 1', 'Cucumber Ripe 2', 'Dates 1', 'Eggplant 1', 'Eggplant long 1', 'Fig 1', 'Ginger Root 1', 'Gooseberry 1', 'Granadilla 1', 'Grape Blue 1', 'Grape Pink 1', 'Grape White 1', 'Grape White 2', 'Grape White 3', 'Grape White 4', 'Grapefruit Pink 1', 'Grapefruit White 1', 'Guava 1', 'Hazelnut 1', 'Huckleberry 1', 'Kaki 1', 'Kiwi 1', 'Kohlrabi 1', 'Kumquats 1', 'Lemon 1', 'Lemon Meyer 1', 'Limes 1', 'Lychee 1', 'Mandarine 1', 'Mango 1', 'Mango Red 1', 'Mangostan 1', 'Maracuja 1', 'Melon Piel de Sapo 1', 'Mulberry 1', 'Nectarine 1', 'Nectarine Flat 1', 'Nut Forest 1', 'Nut Pecan 1', 'Onion Red 1', 'Onion Red Peeled 1', 'Onion White 1', 'Orange 1', 'Papaya 1', 'Passion Fruit 1', 'Peach 1', 'Peach 2', 'Peach Flat 1', 'Pear 1', 'Pear 2', 'Pear 3', 'Pear Abate 1', 'Pear Forelle 1', 'Pear Kaiser 1', 'Pear Monster 1', 'Pear Red 1', 'Pear Stone 1', 'Pear Williams 1', 'Pepino 1', 'Pepper Green 1', 'Pepper Orange 1', 'Pepper Red 1', 'Pepper Yellow 1', 'Physalis 1', 'Physalis with Husk 1', 'Pineapple 1', 'Pineapple Mini 1', 'Pistachio 1', 'Pitahaya Red 1', 'Plum 1', 'Plum 2', 'Plum 3', 'Pomegranate 1', 'Pomelo Sweetie 1', 'Potato Red 1', 'Potato Red Washed 1', 'Potato Sweet 1', 'Potato White 1', 'Quince 1', 'Quince 2', 'Quince 3', 'Quince 4', 'Rambutan 1', 'Raspberry 1', 'Redcurrant 1', 'Salak 1', 'Strawberry 1', 'Strawberry Wedge 1', 'Tamarillo 1', 'Tangelo 1', 'Tomato 1', 'Tomato 2', 'Tomato 3', 'Tomato 4', 'Tomato Cherry Red 1', 'Tomato Heart 1', 'Tomato Maroon 1', 'Tomato Yellow 1', 'Tomato not Ripened 1', 'Walnut 1', 'Watermelon 1', 'Zucchini 1', 'Zucchini dark 1']\n",
      "indice de clases: {'Apple 10': 0, 'Apple 12': 1, 'Apple 13': 2, 'Apple 14': 3, 'Apple 17': 4, 'Apple 19': 5, 'Apple 6': 6, 'Apple 9': 7, 'Apple Braeburn 1': 8, 'Apple Core 1': 9, 'Apple Crimson Snow 1': 10, 'Apple Golden 1': 11, 'Apple Golden 2': 12, 'Apple Golden 3': 13, 'Apple Granny Smith 1': 14, 'Apple Pink Lady 1': 15, 'Apple Red 1': 16, 'Apple Red 2': 17, 'Apple Red 3': 18, 'Apple Red Delicious 1': 19, 'Apple Red Yellow 1': 20, 'Apple Red Yellow 2': 21, 'Apple Rotten 1': 22, 'Apple hit 1': 23, 'Apple worm 1': 24, 'Apricot 1': 25, 'Avocado 1': 26, 'Avocado ripe 1': 27, 'Banana 1': 28, 'Banana 3': 29, 'Banana Lady Finger 1': 30, 'Banana Red 1': 31, 'Beans 1': 32, 'Beetroot 1': 33, 'Blackberrie 1': 34, 'Blackberrie 2': 35, 'Blackberrie half rippen 1': 36, 'Blackberrie not rippen 1': 37, 'Blueberry 1': 38, 'Cabbage red 1': 39, 'Cabbage white 1': 40, 'Cactus fruit 1': 41, 'Cactus fruit green 1': 42, 'Cactus fruit red 1': 43, 'Cantaloupe 1': 44, 'Cantaloupe 2': 45, 'Carambula 1': 46, 'Carrot 1': 47, 'Cauliflower 1': 48, 'Cherimoya 1': 49, 'Cherry 1': 50, 'Cherry 2': 51, 'Cherry Rainier 1': 52, 'Cherry Wax Black 1': 53, 'Cherry Wax Red 1': 54, 'Cherry Wax Yellow 1': 55, 'Cherry Wax not rippen 1': 56, 'Chestnut 1': 57, 'Clementine 1': 58, 'Cocos 1': 59, 'Corn 1': 60, 'Corn Husk 1': 61, 'Cucumber 1': 62, 'Cucumber 10': 63, 'Cucumber 3': 64, 'Cucumber 9': 65, 'Cucumber Ripe 1': 66, 'Cucumber Ripe 2': 67, 'Dates 1': 68, 'Eggplant 1': 69, 'Eggplant long 1': 70, 'Fig 1': 71, 'Ginger Root 1': 72, 'Gooseberry 1': 73, 'Granadilla 1': 74, 'Grape Blue 1': 75, 'Grape Pink 1': 76, 'Grape White 1': 77, 'Grape White 2': 78, 'Grape White 3': 79, 'Grape White 4': 80, 'Grapefruit Pink 1': 81, 'Grapefruit White 1': 82, 'Guava 1': 83, 'Hazelnut 1': 84, 'Huckleberry 1': 85, 'Kaki 1': 86, 'Kiwi 1': 87, 'Kohlrabi 1': 88, 'Kumquats 1': 89, 'Lemon 1': 90, 'Lemon Meyer 1': 91, 'Limes 1': 92, 'Lychee 1': 93, 'Mandarine 1': 94, 'Mango 1': 95, 'Mango Red 1': 96, 'Mangostan 1': 97, 'Maracuja 1': 98, 'Melon Piel de Sapo 1': 99, 'Mulberry 1': 100, 'Nectarine 1': 101, 'Nectarine Flat 1': 102, 'Nut Forest 1': 103, 'Nut Pecan 1': 104, 'Onion Red 1': 105, 'Onion Red Peeled 1': 106, 'Onion White 1': 107, 'Orange 1': 108, 'Papaya 1': 109, 'Passion Fruit 1': 110, 'Peach 1': 111, 'Peach 2': 112, 'Peach Flat 1': 113, 'Pear 1': 114, 'Pear 2': 115, 'Pear 3': 116, 'Pear Abate 1': 117, 'Pear Forelle 1': 118, 'Pear Kaiser 1': 119, 'Pear Monster 1': 120, 'Pear Red 1': 121, 'Pear Stone 1': 122, 'Pear Williams 1': 123, 'Pepino 1': 124, 'Pepper Green 1': 125, 'Pepper Orange 1': 126, 'Pepper Red 1': 127, 'Pepper Yellow 1': 128, 'Physalis 1': 129, 'Physalis with Husk 1': 130, 'Pineapple 1': 131, 'Pineapple Mini 1': 132, 'Pistachio 1': 133, 'Pitahaya Red 1': 134, 'Plum 1': 135, 'Plum 2': 136, 'Plum 3': 137, 'Pomegranate 1': 138, 'Pomelo Sweetie 1': 139, 'Potato Red 1': 140, 'Potato Red Washed 1': 141, 'Potato Sweet 1': 142, 'Potato White 1': 143, 'Quince 1': 144, 'Quince 2': 145, 'Quince 3': 146, 'Quince 4': 147, 'Rambutan 1': 148, 'Raspberry 1': 149, 'Redcurrant 1': 150, 'Salak 1': 151, 'Strawberry 1': 152, 'Strawberry Wedge 1': 153, 'Tamarillo 1': 154, 'Tangelo 1': 155, 'Tomato 1': 156, 'Tomato 2': 157, 'Tomato 3': 158, 'Tomato 4': 159, 'Tomato Cherry Red 1': 160, 'Tomato Heart 1': 161, 'Tomato Maroon 1': 162, 'Tomato Yellow 1': 163, 'Tomato not Ripened 1': 164, 'Walnut 1': 165, 'Watermelon 1': 166, 'Zucchini 1': 167, 'Zucchini dark 1': 168}\n"
     ]
    }
   ],
   "source": [
    "# valores calculados\n",
    "#Media = [0.6726, 0.5792, 0.5084]\n",
    "#Std = [0.2698, 0.3260, 0.3683]\n",
    "\n",
    "Media = [0.6726435422897339, 0.5792443752288818, 0.508468508720398]\n",
    "Std = [0.26989850401878357, 0.32609033584594727, 0.3682645261287689]\n",
    "\n",
    "# Normalización de los datos\n",
    "train_transform = transforms.Compose([\n",
    "    transforms.Resize((100, 100)),\n",
    "    #transforms.RandomHorizontalFlip(p=0.5),\n",
    "    #transforms.RandomRotation(10),\n",
    "    #transforms.ColorJitter(brightness=0.2, saturation=0.2),\n",
    "    transforms.ToTensor(),\n",
    "    transforms.Normalize(mean=Media, std=Std)  # Normalización crítica\n",
    "])\n",
    "\n",
    "# Transformación para el conjunto de test\n",
    "test_transform = transforms.Compose([\n",
    "    transforms.Resize((100, 100)),\n",
    "    transforms.ToTensor(),\n",
    "    transforms.Normalize(mean=Media, std=Std)  # Normalización crítica\n",
    "])\n",
    "\n",
    "# Cargar el conjunto de datos de entrenamiento y Test\n",
    "train_dataset = datasets.ImageFolder( # el ImageFolder es un objeto iterable\n",
    "    # Cargar el conjunto de datos de entrenamiento\n",
    "    root= \"C:/Users/OMEN/Documents/7mo Semestre-01-2025/Inteligencia Artificial/Lab-002/fruits-360/Training\",\n",
    "    transform=train_transform\n",
    ")\n",
    "\n",
    "test_dataset = datasets.ImageFolder(\n",
    "    root=\"C:/Users/OMEN/Documents/7mo Semestre-01-2025/Inteligencia Artificial/Lab-002/fruits-360/Test\",\n",
    "    transform=test_transform\n",
    ")\n",
    "\n",
    "# Creamos DataLoader para cargar los datos / que es el dataLoader -> \n",
    "train_loader = torch.utils.data.DataLoader(\n",
    "    train_dataset,\n",
    "    batch_size=32,          # Batch grande para estabilidad\n",
    "    shuffle=True,            # Mezcla para entrenamiento\n",
    ")\n",
    "\n",
    "test_loader = torch.utils.data.DataLoader(\n",
    "    test_dataset,\n",
    "    batch_size=32,\n",
    "    shuffle=True,           # No mezclar en test\n",
    ")\n",
    "\n",
    "# Verificación\n",
    "print(f\"Clases: {len(train_dataset.classes)}\")  # Debe mostrar 169\n",
    "print(f\"Imágenes en entrenamiento: {len(train_dataset)}\")\n",
    "print(f\"Imágenes en test: {len(test_dataset)}\")\n",
    "\n",
    "print(f\"Clases: {train_dataset.classes}\")  # Debe mostrar 169\n",
    "print(\"indice de clases:\", train_dataset.class_to_idx)  # Muestra el índice de clases\n",
    "\n",
    "print(f\"clases de test: {test_dataset.classes}\")  # Debe mostrar 170\n",
    "print(\"indice de clases:\", test_dataset.class_to_idx)  # Muestra el índice de clases"
   ]
  },
  {
   "cell_type": "markdown",
   "metadata": {},
   "source": [
    "El DataLoader en PyTorch es una utilidad fundamental que se encarga de cargar, organizar y procesar tus datos de manera eficiente durante el entrenamiento de tu red neuronal."
   ]
  },
  {
   "cell_type": "code",
   "execution_count": 29,
   "metadata": {},
   "outputs": [
    {
     "name": "stdout",
     "output_type": "stream",
     "text": [
      "Etiqueta: Pistachio 1\n"
     ]
    },
    {
     "data": {
      "image/png": "[encoded data removed]",
      "text/plain": [
       "<Figure size 640x480 with 1 Axes>"
      ]
     },
     "metadata": {},
     "output_type": "display_data"
    }
   ],
   "source": [
    "import matplotlib.pyplot as plt\n",
    "import numpy as np\n",
    "\n",
    "def imshow(img):\n",
    "    img = img.cpu().numpy().transpose((1, 2, 0))  # Convertir a HWC\n",
    "    img = img * std.cpu().numpy() + mean.cpu().numpy()  # Desnormalizar\n",
    "    img = np.clip(img, 0, 1)                     # Asegurar rango [0,1]\n",
    "    plt.imshow(img)\n",
    "    plt.axis('off')\n",
    "\n",
    "# Mostrar primera imagen del batch\n",
    "dataiter = iter(train_loader)\n",
    "images, labels = next(dataiter)\n",
    "imshow(images[0])\n",
    "print(f\"Etiqueta: {train_dataset.classes[labels[0]]}\")"
   ]
  },
  {
   "cell_type": "code",
   "execution_count": 26,
   "metadata": {},
   "outputs": [
    {
     "name": "stdout",
     "output_type": "stream",
     "text": [
      "Etiqueta: Pear 2\n"
     ]
    },
    {
     "data": {
      "image/png": "[encoded data removed]",
      "text/plain": [
       "<Figure size 640x480 with 1 Axes>"
      ]
     },
     "metadata": {},
     "output_type": "display_data"
    }
   ],
   "source": [
    "# Mostrar primera imagen del batch\n",
    "dataiter = iter(test_loader)\n",
    "images, labels = next(dataiter)\n",
    "imshow(images[0])\n",
    "print(f\"Etiqueta: {train_dataset.classes[labels[0]]}\")"
   ]
  },
  {
   "cell_type": "code",
   "execution_count": 42,
   "metadata": {},
   "outputs": [
    {
     "name": "stdout",
     "output_type": "stream",
     "text": [
      "labels en entrenamiento tensor([129, 122,  25, 106, 102, 127, 159, 132,  30, 122,  77,  85,  37,  79,\n",
      "         68, 125,   1, 109,  61,  85,   5, 124, 168, 110, 127,  71,  31, 145,\n",
      "         48,  46, 127,  55])\n"
     ]
    }
   ],
   "source": [
    "for images, labels in test_loader:\n",
    "    print(\"labels en entrenamiento\", labels)\n",
    "    break"
   ]
  },
  {
   "cell_type": "markdown",
   "metadata": {},
   "source": [
    "1. Optimizador: SGD (Descenso de Gradiente Estocástico)\n",
    "Explicación breve para el curso:\n",
    "El SGD (Stochastic Gradient Descent) es uno de los optimizadores más básicos en Deep Learning. Su función es ajustar los pesos de la red neuronal mediante el cálculo del gradiente (derivada) de la función de pérdida.\n",
    "\n",
    "Ventajas:\n",
    "\n",
    "Simple y fácil de entender.\n",
    "\n",
    "Funciona bien en muchos problemas clásicos.\n",
    "\n",
    "Permfine ajustar manualmente la tasa de aprendizaje (learning rate).\n",
    "\n",
    "Hiperparámetros clave:\n",
    "\n",
    "lr (Learning Rate): Controla el tamaño de los pasos en la actualización de los pesos (demasiado alto → inestabilidad; demasiado bajo → lento).\n",
    "\n",
    "momentum (opcional): Ayuda a evitar mínimos locales y acelera la convergencia.\n",
    "\n",
    "2. Función de Pérdida (Loss Function)\n",
    "La más básica y necesaria: CrossEntropyLoss\n",
    "\n",
    "¿Qué hace?\n",
    "\n",
    "Mide qué tan lejos están las predicciones de la red (logits) de las etiquetas reales.\n",
    "\n",
    "Combina LogSoftmax + NLLLoss (Negative Log Likelihood Loss) en una sola función.\n",
    "\n",
    "Ideal para problemas de clasificación multiclase (como tu caso con 170 clases).\n",
    "\n"
   ]
  },
  {
   "cell_type": "code",
   "execution_count": null,
   "metadata": {},
   "outputs": [
    {
     "name": "stdout",
     "output_type": "stream",
     "text": [
      "¡Optimizador y función de pérdida creados!\n",
      "optimizador SGD (\n",
      "Parameter Group 0\n",
      "    dampening: 0\n",
      "    differentiable: False\n",
      "    foreach: None\n",
      "    fused: None\n",
      "    lr: 5e-05\n",
      "    maximize: False\n",
      "    momentum: 0.95\n",
      "    nesterov: False\n",
      "    weight_decay: 1e-05\n",
      ")\n",
      "función de pérdida CrossEntropyLoss()\n"
     ]
    }
   ],
   "source": [
    "# Optimizador (SGD)\n",
    "optimizer = optim.SGD(model.parameters(), lr=0.001, momentum=0.95, weight_decay=1e-5) \n",
    "#optimizer = optim.Adam(model.parameters(), lr=0.01, weight_decay=1e-4)\n",
    "\n",
    "# el weight decay es la regularización L2 osea la penalización de los pesos\n",
    "# SGD -> Stochastic Gradient Descent (descenso de gradiente estocástico)\n",
    "\n",
    "# Función de pérdida\n",
    "criterion = nn.CrossEntropyLoss()\n",
    "\n",
    "# Scheduler\n",
    "scheduler = optim.lr_scheduler.ReduceLROnPlateau(optimizer, mode='min', patience=2, factor=0.1)\n",
    "# Scheduler para reducir la tasa de aprendizaje si el rendimiento no mejora\n",
    "# (patience=2 significa esperar 2 épocas antes de reducir la tasa de aprendizaje)\n",
    "# Scheduler para reducir la tasa de aprendizaje\n",
    "# (scheduler) -> ReduceLROnPlateau reduce la tasa de aprendizaje si la métrica no mejora\n",
    "# (mode='min') -> se usa para problemas de regresión \n",
    "# (patience=2) -> número de épocas sin mejora antes de reducir la tasa\n",
    "\n",
    "print(\"¡Optimizador y función de pérdida creados!\")\n",
    "print(\"optimizador\", optimizer)\n",
    "print(\"función de pérdida\", criterion)\n",
    "#print(\"Scheduler\", scheduler)"
   ]
  },
  {
   "cell_type": "markdown",
   "metadata": {},
   "source": [
    "# funcion dde entrenamiento"
   ]
  },
  {
   "cell_type": "code",
   "execution_count": 44,
   "metadata": {},
   "outputs": [],
   "source": [
    "def entrenar_epoca(modelo, cargador, optimizador, criterio, dispositivo):\n",
    "    modelo.train()\n",
    "    perdida_total = 0.0\n",
    "    correctas = 0\n",
    "    total = 0\n",
    "    \n",
    "    with tqdm(cargador, unit=\"batch\", desc=\"Entrenamiento\") as barra:\n",
    "        for imagenes, etiquetas in barra:\n",
    "            imagenes, etiquetas = imagenes.to(dispositivo), etiquetas.to(dispositivo)\n",
    "            \n",
    "            optimizador.zero_grad()\n",
    "            salidas = modelo(imagenes)\n",
    "            perdida = criterio(salidas, etiquetas)\n",
    "            perdida.backward()\n",
    "            optimizador.step()\n",
    "            \n",
    "            perdida_total += perdida.item()\n",
    "            _, predichas = torch.max(salidas, 1)\n",
    "            correctas += (predichas == etiquetas).sum().item()\n",
    "            total += etiquetas.size(0)\n",
    "            \n",
    "            barra.set_postfix(\n",
    "                perdida=perdida.item(),\n",
    "                precision=f\"{100 * correctas / total:.2f}%\"\n",
    "            )\n",
    "    \n",
    "    # calcular el porcentaje de error\n",
    "    error = 100 * (1 - correctas / total)\n",
    "    return perdida_total / len(cargador), 100 * correctas / total, error"
   ]
  },
  {
   "cell_type": "markdown",
   "metadata": {},
   "source": [
    "# funcion de validacion"
   ]
  },
  {
   "cell_type": "code",
   "execution_count": 46,
   "metadata": {},
   "outputs": [],
   "source": [
    "def evaluar(modelo, cargador, criterio, dispositivo):\n",
    "    modelo.eval()  # Modo evaluación\n",
    "    perdida_total = 0.0\n",
    "    correctas = 0\n",
    "    total = 0\n",
    "\n",
    "    with torch.no_grad():  # Desactiva gradientes\n",
    "        for imagenes, etiquetas in tqdm(cargador, desc=\"Prueba\"):\n",
    "            imagenes, etiquetas = imagenes.to(dispositivo), etiquetas.to(dispositivo)\n",
    "            salidas = modelo(imagenes)\n",
    "            perdida = criterio(salidas, etiquetas)\n",
    "            \n",
    "            # Métricas\n",
    "            perdida_total += perdida.item()\n",
    "            _, predichas = torch.max(salidas, 1)\n",
    "            correctas += (predichas == etiquetas).sum().item()\n",
    "            total += etiquetas.size(0)\n",
    "\n",
    "    error_porcentaje = (1 - correctas / total) * 100\n",
    "    \n",
    "    return perdida_total / len(cargador), 100 * correctas / total, error_porcentaje"
   ]
  },
  {
   "cell_type": "code",
   "execution_count": 47,
   "metadata": {},
   "outputs": [],
   "source": [
    "def graficar_resultados(perdidas_ent, precision_ent, perdidas_test, precision_test):\n",
    "    plt.figure(figsize=(12, 5))\n",
    "    \n",
    "    # Gráfica de pérdida\n",
    "    plt.subplot(1, 2, 1)\n",
    "    plt.plot(perdidas_ent, label='Entrenamiento')\n",
    "    plt.plot(perdidas_test, label='Prueba')\n",
    "    plt.title('Pérdida por Época')\n",
    "    plt.xlabel('Época')\n",
    "    plt.ylabel('Pérdida')\n",
    "    plt.legend()\n",
    "    \n",
    "    # Gráfica de precisión\n",
    "    plt.subplot(1, 2, 2)\n",
    "    plt.plot(precision_ent, label='Entrenamiento')\n",
    "    plt.plot(precision_test, label='Prueba')\n",
    "    plt.title('Precisión por Época')\n",
    "    plt.xlabel('Época')\n",
    "    plt.ylabel('Precisión (%)')\n",
    "    plt.legend()\n",
    "    \n",
    "    plt.tight_layout()\n",
    "    plt.show()"
   ]
  },
  {
   "cell_type": "markdown",
   "metadata": {},
   "source": [
    "# --- 5. Bucle de Entrenamiento ---"
   ]
  },
  {
   "cell_type": "code",
   "execution_count": 48,
   "metadata": {},
   "outputs": [
    {
     "name": "stdout",
     "output_type": "stream",
     "text": [
      "VRAM usada: 58.94 MB\n",
      "\n",
      "Época 1/50\n"
     ]
    },
    {
     "name": "stderr",
     "output_type": "stream",
     "text": [
      "Entrenamiento: 100%|██████████| 2698/2698 [01:37<00:00, 27.80batch/s, perdida=4.64, precision=30.35%]\n",
      "Prueba: 100%|██████████| 902/902 [02:56<00:00,  5.11it/s]\n"
     ]
    },
    {
     "name": "stdout",
     "output_type": "stream",
     "text": [
      "\n",
      "Resumen Época 1:\n",
      "  Pérdida: Train = 4.2702 | Test = 3.8742\n",
      "  Precisión: Train = 30.35% | Test = 53.01%\n",
      "  Error: entrenamiento: 69.6540% | error test: 46.9944%\n",
      "--------------------------------------------------\n",
      "VRAM usada: 193.15 MB\n",
      "\n",
      "Época 2/50\n"
     ]
    },
    {
     "name": "stderr",
     "output_type": "stream",
     "text": [
      "Entrenamiento: 100%|██████████| 2698/2698 [01:07<00:00, 39.97batch/s, perdida=3.76, precision=55.31%]\n",
      "Prueba: 100%|██████████| 902/902 [00:20<00:00, 43.33it/s]\n"
     ]
    },
    {
     "name": "stdout",
     "output_type": "stream",
     "text": [
      "\n",
      "Resumen Época 2:\n",
      "  Pérdida: Train = 3.5732 | Test = 3.4273\n",
      "  Precisión: Train = 55.31% | Test = 61.27%\n",
      "  Error: entrenamiento: 44.6923% | error test: 38.7278%\n",
      "--------------------------------------------------\n",
      "VRAM usada: 193.15 MB\n",
      "\n",
      "Época 3/50\n"
     ]
    },
    {
     "name": "stderr",
     "output_type": "stream",
     "text": [
      "Entrenamiento: 100%|██████████| 2698/2698 [01:06<00:00, 40.65batch/s, perdida=3.88, precision=64.74%]\n",
      "Prueba: 100%|██████████| 902/902 [00:20<00:00, 43.81it/s]\n"
     ]
    },
    {
     "name": "stdout",
     "output_type": "stream",
     "text": [
      "\n",
      "Resumen Época 3:\n",
      "  Pérdida: Train = 3.0627 | Test = 2.9363\n",
      "  Precisión: Train = 64.74% | Test = 65.36%\n",
      "  Error: entrenamiento: 35.2609% | error test: 34.6395%\n",
      "--------------------------------------------------\n",
      "VRAM usada: 193.15 MB\n",
      "\n",
      "Época 4/50\n"
     ]
    },
    {
     "name": "stderr",
     "output_type": "stream",
     "text": [
      "Entrenamiento: 100%|██████████| 2698/2698 [01:06<00:00, 40.85batch/s, perdida=3.86, precision=71.10%]\n",
      "Prueba: 100%|██████████| 902/902 [00:20<00:00, 43.27it/s]\n"
     ]
    },
    {
     "name": "stdout",
     "output_type": "stream",
     "text": [
      "\n",
      "Resumen Época 4:\n",
      "  Pérdida: Train = 2.6031 | Test = 2.5003\n",
      "  Precisión: Train = 71.10% | Test = 69.87%\n",
      "  Error: entrenamiento: 28.8988% | error test: 30.1285%\n",
      "--------------------------------------------------\n",
      "VRAM usada: 193.15 MB\n",
      "\n",
      "Época 5/50\n"
     ]
    },
    {
     "name": "stderr",
     "output_type": "stream",
     "text": [
      "Entrenamiento: 100%|██████████| 2698/2698 [01:06<00:00, 40.63batch/s, perdida=3.33, precision=76.80%]\n",
      "Prueba: 100%|██████████| 902/902 [00:20<00:00, 43.31it/s]\n"
     ]
    },
    {
     "name": "stdout",
     "output_type": "stream",
     "text": [
      "\n",
      "Resumen Época 5:\n",
      "  Pérdida: Train = 2.1900 | Test = 2.1535\n",
      "  Precisión: Train = 76.80% | Test = 74.47%\n",
      "  Error: entrenamiento: 23.2018% | error test: 25.5344%\n",
      "--------------------------------------------------\n",
      "VRAM usada: 193.15 MB\n",
      "\n",
      "Época 6/50\n"
     ]
    },
    {
     "name": "stderr",
     "output_type": "stream",
     "text": [
      "Entrenamiento: 100%|██████████| 2698/2698 [01:06<00:00, 40.56batch/s, perdida=2.39, precision=81.97%]\n",
      "Prueba: 100%|██████████| 902/902 [00:20<00:00, 43.54it/s]\n"
     ]
    },
    {
     "name": "stdout",
     "output_type": "stream",
     "text": [
      "\n",
      "Resumen Época 6:\n",
      "  Pérdida: Train = 1.8295 | Test = 1.8855\n",
      "  Precisión: Train = 81.97% | Test = 77.47%\n",
      "  Error: entrenamiento: 18.0342% | error test: 22.5271%\n",
      "--------------------------------------------------\n",
      "VRAM usada: 193.15 MB\n",
      "\n",
      "Época 7/50\n"
     ]
    },
    {
     "name": "stderr",
     "output_type": "stream",
     "text": [
      "Entrenamiento: 100%|██████████| 2698/2698 [01:06<00:00, 40.30batch/s, perdida=2.87, precision=86.20%]\n",
      "Prueba: 100%|██████████| 902/902 [00:20<00:00, 43.22it/s]\n"
     ]
    },
    {
     "name": "stdout",
     "output_type": "stream",
     "text": [
      "\n",
      "Resumen Época 7:\n",
      "  Pérdida: Train = 1.5209 | Test = 1.6252\n",
      "  Precisión: Train = 86.20% | Test = 80.34%\n",
      "  Error: entrenamiento: 13.8041% | error test: 19.6584%\n",
      "--------------------------------------------------\n",
      "VRAM usada: 193.15 MB\n",
      "\n",
      "Época 8/50\n"
     ]
    },
    {
     "name": "stderr",
     "output_type": "stream",
     "text": [
      "Entrenamiento: 100%|██████████| 2698/2698 [01:06<00:00, 40.60batch/s, perdida=1.52, precision=89.23%] \n",
      "Prueba: 100%|██████████| 902/902 [00:20<00:00, 43.68it/s]\n"
     ]
    },
    {
     "name": "stdout",
     "output_type": "stream",
     "text": [
      "\n",
      "Resumen Época 8:\n",
      "  Pérdida: Train = 1.2704 | Test = 1.4344\n",
      "  Precisión: Train = 89.23% | Test = 82.37%\n",
      "  Error: entrenamiento: 10.7684% | error test: 17.6281%\n",
      "--------------------------------------------------\n",
      "VRAM usada: 193.15 MB\n",
      "\n",
      "Época 9/50\n"
     ]
    },
    {
     "name": "stderr",
     "output_type": "stream",
     "text": [
      "Entrenamiento: 100%|██████████| 2698/2698 [01:06<00:00, 40.57batch/s, perdida=3.08, precision=91.70%] \n",
      "Prueba: 100%|██████████| 902/902 [00:20<00:00, 43.36it/s]\n"
     ]
    },
    {
     "name": "stdout",
     "output_type": "stream",
     "text": [
      "\n",
      "Resumen Época 9:\n",
      "  Pérdida: Train = 1.0588 | Test = 1.2299\n",
      "  Precisión: Train = 91.70% | Test = 83.61%\n",
      "  Error: entrenamiento: 8.3040% | error test: 16.3947%\n",
      "--------------------------------------------------\n",
      "VRAM usada: 193.15 MB\n",
      "\n",
      "Época 10/50\n"
     ]
    },
    {
     "name": "stderr",
     "output_type": "stream",
     "text": [
      "Entrenamiento: 100%|██████████| 2698/2698 [01:06<00:00, 40.70batch/s, perdida=1.76, precision=93.43%] \n",
      "Prueba: 100%|██████████| 902/902 [00:20<00:00, 43.75it/s]\n"
     ]
    },
    {
     "name": "stdout",
     "output_type": "stream",
     "text": [
      "\n",
      "Resumen Época 10:\n",
      "  Pérdida: Train = 0.8893 | Test = 1.1160\n",
      "  Precisión: Train = 93.43% | Test = 84.41%\n",
      "  Error: entrenamiento: 6.5718% | error test: 15.5909%\n",
      "--------------------------------------------------\n",
      "VRAM usada: 193.15 MB\n",
      "\n",
      "Época 11/50\n"
     ]
    },
    {
     "name": "stderr",
     "output_type": "stream",
     "text": [
      "Entrenamiento: 100%|██████████| 2698/2698 [01:07<00:00, 39.93batch/s, perdida=1.35, precision=94.60%] \n",
      "Prueba: 100%|██████████| 902/902 [00:22<00:00, 40.31it/s]\n"
     ]
    },
    {
     "name": "stdout",
     "output_type": "stream",
     "text": [
      "\n",
      "Resumen Época 11:\n",
      "  Pérdida: Train = 0.7494 | Test = 0.9999\n",
      "  Precisión: Train = 94.60% | Test = 85.75%\n",
      "  Error: entrenamiento: 5.3981% | error test: 14.2501%\n",
      "--------------------------------------------------\n",
      "VRAM usada: 193.15 MB\n",
      "\n",
      "Época 12/50\n"
     ]
    },
    {
     "name": "stderr",
     "output_type": "stream",
     "text": [
      "Entrenamiento: 100%|██████████| 2698/2698 [01:08<00:00, 39.56batch/s, perdida=2.54, precision=95.59%] \n",
      "Prueba: 100%|██████████| 902/902 [00:20<00:00, 43.63it/s]\n"
     ]
    },
    {
     "name": "stdout",
     "output_type": "stream",
     "text": [
      "\n",
      "Resumen Época 12:\n",
      "  Pérdida: Train = 0.6427 | Test = 0.9381\n",
      "  Precisión: Train = 95.59% | Test = 86.28%\n",
      "  Error: entrenamiento: 4.4109% | error test: 13.7235%\n",
      "--------------------------------------------------\n",
      "VRAM usada: 193.15 MB\n",
      "\n",
      "Época 13/50\n"
     ]
    },
    {
     "name": "stderr",
     "output_type": "stream",
     "text": [
      "Entrenamiento: 100%|██████████| 2698/2698 [01:05<00:00, 40.93batch/s, perdida=1.62, precision=96.41%] \n",
      "Prueba: 100%|██████████| 902/902 [00:20<00:00, 43.23it/s]\n"
     ]
    },
    {
     "name": "stdout",
     "output_type": "stream",
     "text": [
      "\n",
      "Resumen Época 13:\n",
      "  Pérdida: Train = 0.5506 | Test = 0.8286\n",
      "  Precisión: Train = 96.41% | Test = 87.22%\n",
      "  Error: entrenamiento: 3.5883% | error test: 12.7811%\n",
      "--------------------------------------------------\n",
      "VRAM usada: 193.15 MB\n",
      "\n",
      "Época 14/50\n"
     ]
    },
    {
     "name": "stderr",
     "output_type": "stream",
     "text": [
      "Entrenamiento: 100%|██████████| 2698/2698 [01:06<00:00, 40.49batch/s, perdida=1.08, precision=96.94%] \n",
      "Prueba: 100%|██████████| 902/902 [00:20<00:00, 43.61it/s]\n"
     ]
    },
    {
     "name": "stdout",
     "output_type": "stream",
     "text": [
      "\n",
      "Resumen Época 14:\n",
      "  Pérdida: Train = 0.4836 | Test = 0.7833\n",
      "  Precisión: Train = 96.94% | Test = 87.21%\n",
      "  Error: entrenamiento: 3.0577% | error test: 12.7880%\n",
      "--------------------------------------------------\n",
      "VRAM usada: 193.15 MB\n",
      "\n",
      "Época 15/50\n"
     ]
    },
    {
     "name": "stderr",
     "output_type": "stream",
     "text": [
      "Entrenamiento: 100%|██████████| 2698/2698 [01:06<00:00, 40.57batch/s, perdida=2.43, precision=97.49%] \n",
      "Prueba: 100%|██████████| 902/902 [00:20<00:00, 43.60it/s]\n"
     ]
    },
    {
     "name": "stdout",
     "output_type": "stream",
     "text": [
      "\n",
      "Resumen Época 15:\n",
      "  Pérdida: Train = 0.4254 | Test = 0.7195\n",
      "  Precisión: Train = 97.49% | Test = 87.60%\n",
      "  Error: entrenamiento: 2.5061% | error test: 12.4000%\n",
      "--------------------------------------------------\n",
      "VRAM usada: 193.15 MB\n",
      "\n",
      "Época 16/50\n"
     ]
    },
    {
     "name": "stderr",
     "output_type": "stream",
     "text": [
      "Entrenamiento: 100%|██████████| 2698/2698 [01:06<00:00, 40.86batch/s, perdida=1.41, precision=97.85%] \n",
      "Prueba: 100%|██████████| 902/902 [00:20<00:00, 43.62it/s]\n"
     ]
    },
    {
     "name": "stdout",
     "output_type": "stream",
     "text": [
      "\n",
      "Resumen Época 16:\n",
      "  Pérdida: Train = 0.3740 | Test = 0.7052\n",
      "  Precisión: Train = 97.85% | Test = 87.77%\n",
      "  Error: entrenamiento: 2.1493% | error test: 12.2267%\n",
      "--------------------------------------------------\n",
      "VRAM usada: 193.15 MB\n",
      "\n",
      "Época 17/50\n"
     ]
    },
    {
     "name": "stderr",
     "output_type": "stream",
     "text": [
      "Entrenamiento: 100%|██████████| 2698/2698 [01:06<00:00, 40.64batch/s, perdida=1.8, precision=98.16%]  \n",
      "Prueba: 100%|██████████| 902/902 [00:20<00:00, 43.80it/s]\n"
     ]
    },
    {
     "name": "stdout",
     "output_type": "stream",
     "text": [
      "\n",
      "Resumen Época 17:\n",
      "  Pérdida: Train = 0.3356 | Test = 0.6622\n",
      "  Precisión: Train = 98.16% | Test = 88.12%\n",
      "  Error: entrenamiento: 1.8388% | error test: 11.8837%\n",
      "--------------------------------------------------\n",
      "VRAM usada: 193.15 MB\n",
      "\n",
      "Época 18/50\n"
     ]
    },
    {
     "name": "stderr",
     "output_type": "stream",
     "text": [
      "Entrenamiento: 100%|██████████| 2698/2698 [01:07<00:00, 40.16batch/s, perdida=1.2, precision=98.34%]  \n",
      "Prueba: 100%|██████████| 902/902 [00:20<00:00, 43.36it/s]\n"
     ]
    },
    {
     "name": "stdout",
     "output_type": "stream",
     "text": [
      "\n",
      "Resumen Época 18:\n",
      "  Pérdida: Train = 0.3044 | Test = 0.6340\n",
      "  Precisión: Train = 98.34% | Test = 88.64%\n",
      "  Error: entrenamiento: 1.6569% | error test: 11.3640%\n",
      "--------------------------------------------------\n",
      "VRAM usada: 193.15 MB\n",
      "\n",
      "Época 19/50\n"
     ]
    },
    {
     "name": "stderr",
     "output_type": "stream",
     "text": [
      "Entrenamiento: 100%|██████████| 2698/2698 [01:06<00:00, 40.84batch/s, perdida=1.42, precision=98.62%] \n",
      "Prueba: 100%|██████████| 902/902 [00:20<00:00, 43.82it/s]\n"
     ]
    },
    {
     "name": "stdout",
     "output_type": "stream",
     "text": [
      "\n",
      "Resumen Época 19:\n",
      "  Pérdida: Train = 0.2720 | Test = 0.6144\n",
      "  Precisión: Train = 98.62% | Test = 88.90%\n",
      "  Error: entrenamiento: 1.3846% | error test: 11.1007%\n",
      "--------------------------------------------------\n",
      "VRAM usada: 193.15 MB\n",
      "\n",
      "Época 20/50\n"
     ]
    },
    {
     "name": "stderr",
     "output_type": "stream",
     "text": [
      "Entrenamiento: 100%|██████████| 2698/2698 [01:06<00:00, 40.60batch/s, perdida=1, precision=98.80%]    \n",
      "Prueba: 100%|██████████| 902/902 [00:20<00:00, 43.74it/s]\n"
     ]
    },
    {
     "name": "stdout",
     "output_type": "stream",
     "text": [
      "\n",
      "Resumen Época 20:\n",
      "  Pérdida: Train = 0.2477 | Test = 0.5873\n",
      "  Precisión: Train = 98.80% | Test = 89.49%\n",
      "  Error: entrenamiento: 1.1992% | error test: 10.5083%\n",
      "--------------------------------------------------\n",
      "VRAM usada: 193.15 MB\n",
      "\n",
      "Época 21/50\n"
     ]
    },
    {
     "name": "stderr",
     "output_type": "stream",
     "text": [
      "Entrenamiento: 100%|██████████| 2698/2698 [01:06<00:00, 40.69batch/s, perdida=1.56, precision=98.98%] \n",
      "Prueba: 100%|██████████| 902/902 [00:20<00:00, 43.49it/s]\n"
     ]
    },
    {
     "name": "stdout",
     "output_type": "stream",
     "text": [
      "\n",
      "Resumen Época 21:\n",
      "  Pérdida: Train = 0.2294 | Test = 0.5691\n",
      "  Precisión: Train = 98.98% | Test = 89.55%\n",
      "  Error: entrenamiento: 1.0196% | error test: 10.4494%\n",
      "--------------------------------------------------\n",
      "VRAM usada: 193.15 MB\n",
      "\n",
      "Época 22/50\n"
     ]
    },
    {
     "name": "stderr",
     "output_type": "stream",
     "text": [
      "Entrenamiento: 100%|██████████| 2698/2698 [01:06<00:00, 40.76batch/s, perdida=0.992, precision=99.06%] \n",
      "Prueba: 100%|██████████| 902/902 [00:21<00:00, 42.80it/s]\n"
     ]
    },
    {
     "name": "stdout",
     "output_type": "stream",
     "text": [
      "\n",
      "Resumen Época 22:\n",
      "  Pérdida: Train = 0.2110 | Test = 0.5645\n",
      "  Precisión: Train = 99.06% | Test = 89.64%\n",
      "  Error: entrenamiento: 0.9373% | error test: 10.3593%\n",
      "--------------------------------------------------\n",
      "VRAM usada: 193.15 MB\n",
      "\n",
      "Época 23/50\n"
     ]
    },
    {
     "name": "stderr",
     "output_type": "stream",
     "text": [
      "Entrenamiento: 100%|██████████| 2698/2698 [01:06<00:00, 40.41batch/s, perdida=1.11, precision=99.26%]  \n",
      "Prueba: 100%|██████████| 902/902 [00:20<00:00, 43.12it/s]\n"
     ]
    },
    {
     "name": "stdout",
     "output_type": "stream",
     "text": [
      "\n",
      "Resumen Época 23:\n",
      "  Pérdida: Train = 0.1898 | Test = 0.5472\n",
      "  Precisión: Train = 99.26% | Test = 89.51%\n",
      "  Error: entrenamiento: 0.7415% | error test: 10.4875%\n",
      "--------------------------------------------------\n",
      "VRAM usada: 193.15 MB\n",
      "\n",
      "Época 24/50\n"
     ]
    },
    {
     "name": "stderr",
     "output_type": "stream",
     "text": [
      "Entrenamiento: 100%|██████████| 2698/2698 [01:06<00:00, 40.38batch/s, perdida=1.42, precision=99.25%]  \n",
      "Prueba: 100%|██████████| 902/902 [00:20<00:00, 43.86it/s]\n"
     ]
    },
    {
     "name": "stdout",
     "output_type": "stream",
     "text": [
      "\n",
      "Resumen Época 24:\n",
      "  Pérdida: Train = 0.1786 | Test = 0.5249\n",
      "  Precisión: Train = 99.25% | Test = 89.86%\n",
      "  Error: entrenamiento: 0.7543% | error test: 10.1445%\n",
      "--------------------------------------------------\n",
      "VRAM usada: 193.15 MB\n",
      "\n",
      "Época 25/50\n"
     ]
    },
    {
     "name": "stderr",
     "output_type": "stream",
     "text": [
      "Entrenamiento: 100%|██████████| 2698/2698 [01:06<00:00, 40.53batch/s, perdida=0.762, precision=99.37%] \n",
      "Prueba: 100%|██████████| 902/902 [00:20<00:00, 43.41it/s]\n"
     ]
    },
    {
     "name": "stdout",
     "output_type": "stream",
     "text": [
      "\n",
      "Resumen Época 25:\n",
      "  Pérdida: Train = 0.1657 | Test = 0.5222\n",
      "  Precisión: Train = 99.37% | Test = 89.86%\n",
      "  Error: entrenamiento: 0.6315% | error test: 10.1445%\n",
      "--------------------------------------------------\n",
      "VRAM usada: 193.15 MB\n",
      "\n",
      "Época 26/50\n"
     ]
    },
    {
     "name": "stderr",
     "output_type": "stream",
     "text": [
      "Entrenamiento: 100%|██████████| 2698/2698 [01:06<00:00, 40.27batch/s, perdida=0.631, precision=99.39%] \n",
      "Prueba: 100%|██████████| 902/902 [00:21<00:00, 42.80it/s]\n"
     ]
    },
    {
     "name": "stdout",
     "output_type": "stream",
     "text": [
      "\n",
      "Resumen Época 26:\n",
      "  Pérdida: Train = 0.1555 | Test = 0.5041\n",
      "  Precisión: Train = 99.39% | Test = 90.00%\n",
      "  Error: entrenamiento: 0.6118% | error test: 9.9955%\n",
      "--------------------------------------------------\n",
      "VRAM usada: 193.15 MB\n",
      "\n",
      "Época 27/50\n"
     ]
    },
    {
     "name": "stderr",
     "output_type": "stream",
     "text": [
      "Entrenamiento: 100%|██████████| 2698/2698 [01:07<00:00, 40.16batch/s, perdida=0.415, precision=99.48%] \n",
      "Prueba: 100%|██████████| 902/902 [00:20<00:00, 43.61it/s]\n"
     ]
    },
    {
     "name": "stdout",
     "output_type": "stream",
     "text": [
      "\n",
      "Resumen Época 27:\n",
      "  Pérdida: Train = 0.1442 | Test = 0.4970\n",
      "  Precisión: Train = 99.48% | Test = 90.15%\n",
      "  Error: entrenamiento: 0.5179% | error test: 9.8534%\n",
      "--------------------------------------------------\n",
      "VRAM usada: 193.15 MB\n",
      "\n",
      "Época 28/50\n"
     ]
    },
    {
     "name": "stderr",
     "output_type": "stream",
     "text": [
      "Entrenamiento: 100%|██████████| 2698/2698 [01:06<00:00, 40.60batch/s, perdida=0.798, precision=99.55%] \n",
      "Prueba: 100%|██████████| 902/902 [00:20<00:00, 42.99it/s]\n"
     ]
    },
    {
     "name": "stdout",
     "output_type": "stream",
     "text": [
      "\n",
      "Resumen Época 28:\n",
      "  Pérdida: Train = 0.1345 | Test = 0.4827\n",
      "  Precisión: Train = 99.55% | Test = 90.57%\n",
      "  Error: entrenamiento: 0.4461% | error test: 9.4273%\n",
      "--------------------------------------------------\n",
      "VRAM usada: 193.15 MB\n",
      "\n",
      "Época 29/50\n"
     ]
    },
    {
     "name": "stderr",
     "output_type": "stream",
     "text": [
      "Entrenamiento: 100%|██████████| 2698/2698 [01:08<00:00, 39.56batch/s, perdida=0.737, precision=99.59%] \n",
      "Prueba: 100%|██████████| 902/902 [00:20<00:00, 43.69it/s]\n"
     ]
    },
    {
     "name": "stdout",
     "output_type": "stream",
     "text": [
      "\n",
      "Resumen Época 29:\n",
      "  Pérdida: Train = 0.1286 | Test = 0.4775\n",
      "  Precisión: Train = 99.59% | Test = 90.07%\n",
      "  Error: entrenamiento: 0.4102% | error test: 9.9297%\n",
      "--------------------------------------------------\n",
      "VRAM usada: 193.15 MB\n",
      "\n",
      "Época 30/50\n"
     ]
    },
    {
     "name": "stderr",
     "output_type": "stream",
     "text": [
      "Entrenamiento: 100%|██████████| 2698/2698 [01:06<00:00, 40.33batch/s, perdida=1.15, precision=99.56%]  \n",
      "Prueba: 100%|██████████| 902/902 [00:20<00:00, 43.79it/s]\n"
     ]
    },
    {
     "name": "stdout",
     "output_type": "stream",
     "text": [
      "\n",
      "Resumen Época 30:\n",
      "  Pérdida: Train = 0.1241 | Test = 0.4720\n",
      "  Precisión: Train = 99.56% | Test = 90.24%\n",
      "  Error: entrenamiento: 0.4414% | error test: 9.7634%\n",
      "--------------------------------------------------\n",
      "VRAM usada: 193.15 MB\n",
      "\n",
      "Época 31/50\n"
     ]
    },
    {
     "name": "stderr",
     "output_type": "stream",
     "text": [
      "Entrenamiento: 100%|██████████| 2698/2698 [01:07<00:00, 40.26batch/s, perdida=0.687, precision=99.56%] \n",
      "Prueba: 100%|██████████| 902/902 [00:20<00:00, 44.04it/s]\n"
     ]
    },
    {
     "name": "stdout",
     "output_type": "stream",
     "text": [
      "\n",
      "Resumen Época 31:\n",
      "  Pérdida: Train = 0.1175 | Test = 0.4624\n",
      "  Precisión: Train = 99.56% | Test = 90.65%\n",
      "  Error: entrenamiento: 0.4391% | error test: 9.3476%\n",
      "--------------------------------------------------\n",
      "VRAM usada: 193.15 MB\n",
      "\n",
      "Época 32/50\n"
     ]
    },
    {
     "name": "stderr",
     "output_type": "stream",
     "text": [
      "Entrenamiento: 100%|██████████| 2698/2698 [01:16<00:00, 35.33batch/s, perdida=1.74, precision=99.64%]  \n",
      "Prueba: 100%|██████████| 902/902 [00:22<00:00, 40.17it/s]\n"
     ]
    },
    {
     "name": "stdout",
     "output_type": "stream",
     "text": [
      "\n",
      "Resumen Época 32:\n",
      "  Pérdida: Train = 0.1107 | Test = 0.4628\n",
      "  Precisión: Train = 99.64% | Test = 90.60%\n",
      "  Error: entrenamiento: 0.3569% | error test: 9.4030%\n",
      "--------------------------------------------------\n",
      "VRAM usada: 193.15 MB\n",
      "\n",
      "Época 33/50\n"
     ]
    },
    {
     "name": "stderr",
     "output_type": "stream",
     "text": [
      "Entrenamiento: 100%|██████████| 2698/2698 [01:08<00:00, 39.50batch/s, perdida=1.33, precision=99.58%]  \n",
      "Prueba: 100%|██████████| 902/902 [00:20<00:00, 43.49it/s]\n"
     ]
    },
    {
     "name": "stdout",
     "output_type": "stream",
     "text": [
      "\n",
      "Resumen Época 33:\n",
      "  Pérdida: Train = 0.1096 | Test = 0.4505\n",
      "  Precisión: Train = 99.58% | Test = 90.70%\n",
      "  Error: entrenamiento: 0.4160% | error test: 9.2956%\n",
      "--------------------------------------------------\n",
      "VRAM usada: 193.15 MB\n",
      "\n",
      "Época 34/50\n"
     ]
    },
    {
     "name": "stderr",
     "output_type": "stream",
     "text": [
      "Entrenamiento: 100%|██████████| 2698/2698 [01:06<00:00, 40.41batch/s, perdida=1.16, precision=99.69%]  \n",
      "Prueba: 100%|██████████| 902/902 [00:20<00:00, 43.46it/s]\n"
     ]
    },
    {
     "name": "stdout",
     "output_type": "stream",
     "text": [
      "\n",
      "Resumen Época 34:\n",
      "  Pérdida: Train = 0.0988 | Test = 0.4498\n",
      "  Precisión: Train = 99.69% | Test = 90.29%\n",
      "  Error: entrenamiento: 0.3059% | error test: 9.7149%\n",
      "--------------------------------------------------\n",
      "VRAM usada: 193.15 MB\n",
      "\n",
      "Época 35/50\n"
     ]
    },
    {
     "name": "stderr",
     "output_type": "stream",
     "text": [
      "Entrenamiento: 100%|██████████| 2698/2698 [01:06<00:00, 40.50batch/s, perdida=0.964, precision=99.69%] \n",
      "Prueba: 100%|██████████| 902/902 [00:20<00:00, 43.71it/s]\n"
     ]
    },
    {
     "name": "stdout",
     "output_type": "stream",
     "text": [
      "\n",
      "Resumen Época 35:\n",
      "  Pérdida: Train = 0.0954 | Test = 0.4500\n",
      "  Precisión: Train = 99.69% | Test = 90.80%\n",
      "  Error: entrenamiento: 0.3094% | error test: 9.2021%\n",
      "--------------------------------------------------\n",
      "VRAM usada: 193.15 MB\n",
      "\n",
      "Época 36/50\n"
     ]
    },
    {
     "name": "stderr",
     "output_type": "stream",
     "text": [
      "Entrenamiento: 100%|██████████| 2698/2698 [01:06<00:00, 40.47batch/s, perdida=1.53, precision=99.73%]  \n",
      "Prueba: 100%|██████████| 902/902 [00:20<00:00, 43.48it/s]\n"
     ]
    },
    {
     "name": "stdout",
     "output_type": "stream",
     "text": [
      "\n",
      "Resumen Época 36:\n",
      "  Pérdida: Train = 0.0900 | Test = 0.4389\n",
      "  Precisión: Train = 99.73% | Test = 90.78%\n",
      "  Error: entrenamiento: 0.2734% | error test: 9.2194%\n",
      "--------------------------------------------------\n",
      "VRAM usada: 193.15 MB\n",
      "\n",
      "Época 37/50\n"
     ]
    },
    {
     "name": "stderr",
     "output_type": "stream",
     "text": [
      "Entrenamiento: 100%|██████████| 2698/2698 [01:09<00:00, 38.93batch/s, perdida=0.575, precision=99.74%] \n",
      "Prueba: 100%|██████████| 902/902 [00:22<00:00, 39.29it/s]\n"
     ]
    },
    {
     "name": "stdout",
     "output_type": "stream",
     "text": [
      "\n",
      "Resumen Época 37:\n",
      "  Pérdida: Train = 0.0880 | Test = 0.4322\n",
      "  Precisión: Train = 99.74% | Test = 90.94%\n",
      "  Error: entrenamiento: 0.2642% | error test: 9.0635%\n",
      "--------------------------------------------------\n",
      "VRAM usada: 193.15 MB\n",
      "\n",
      "Época 38/50\n"
     ]
    },
    {
     "name": "stderr",
     "output_type": "stream",
     "text": [
      "Entrenamiento: 100%|██████████| 2698/2698 [01:09<00:00, 39.01batch/s, perdida=0.797, precision=99.73%] \n",
      "Prueba: 100%|██████████| 902/902 [00:20<00:00, 43.74it/s]\n"
     ]
    },
    {
     "name": "stdout",
     "output_type": "stream",
     "text": [
      "\n",
      "Resumen Época 38:\n",
      "  Pérdida: Train = 0.0834 | Test = 0.4238\n",
      "  Precisión: Train = 99.73% | Test = 90.92%\n",
      "  Error: entrenamiento: 0.2700% | error test: 9.0843%\n",
      "--------------------------------------------------\n",
      "VRAM usada: 193.15 MB\n",
      "\n",
      "Época 39/50\n"
     ]
    },
    {
     "name": "stderr",
     "output_type": "stream",
     "text": [
      "Entrenamiento: 100%|██████████| 2698/2698 [01:05<00:00, 40.92batch/s, perdida=0.26, precision=99.74%]  \n",
      "Prueba: 100%|██████████| 902/902 [00:20<00:00, 43.37it/s]\n"
     ]
    },
    {
     "name": "stdout",
     "output_type": "stream",
     "text": [
      "\n",
      "Resumen Época 39:\n",
      "  Pérdida: Train = 0.0827 | Test = 0.4187\n",
      "  Precisión: Train = 99.74% | Test = 91.20%\n",
      "  Error: entrenamiento: 0.2595% | error test: 8.7967%\n",
      "--------------------------------------------------\n",
      "VRAM usada: 193.15 MB\n",
      "\n",
      "Época 40/50\n"
     ]
    },
    {
     "name": "stderr",
     "output_type": "stream",
     "text": [
      "Entrenamiento: 100%|██████████| 2698/2698 [01:06<00:00, 40.61batch/s, perdida=0.932, precision=99.78%] \n",
      "Prueba: 100%|██████████| 902/902 [00:20<00:00, 43.83it/s]\n"
     ]
    },
    {
     "name": "stdout",
     "output_type": "stream",
     "text": [
      "\n",
      "Resumen Época 40:\n",
      "  Pérdida: Train = 0.0756 | Test = 0.4194\n",
      "  Precisión: Train = 99.78% | Test = 90.85%\n",
      "  Error: entrenamiento: 0.2225% | error test: 9.1501%\n",
      "--------------------------------------------------\n",
      "VRAM usada: 193.15 MB\n",
      "\n",
      "Época 41/50\n"
     ]
    },
    {
     "name": "stderr",
     "output_type": "stream",
     "text": [
      "Entrenamiento: 100%|██████████| 2698/2698 [01:06<00:00, 40.36batch/s, perdida=0.545, precision=99.77%] \n",
      "Prueba: 100%|██████████| 902/902 [00:21<00:00, 42.95it/s]\n"
     ]
    },
    {
     "name": "stdout",
     "output_type": "stream",
     "text": [
      "\n",
      "Resumen Época 41:\n",
      "  Pérdida: Train = 0.0780 | Test = 0.4190\n",
      "  Precisión: Train = 99.77% | Test = 90.99%\n",
      "  Error: entrenamiento: 0.2283% | error test: 9.0081%\n",
      "--------------------------------------------------\n",
      "VRAM usada: 193.15 MB\n",
      "\n",
      "Época 42/50\n"
     ]
    },
    {
     "name": "stderr",
     "output_type": "stream",
     "text": [
      "Entrenamiento: 100%|██████████| 2698/2698 [02:21<00:00, 19.06batch/s, perdida=0.309, precision=99.78%] \n",
      "Prueba: 100%|██████████| 902/902 [00:35<00:00, 25.39it/s]\n"
     ]
    },
    {
     "name": "stdout",
     "output_type": "stream",
     "text": [
      "\n",
      "Resumen Época 42:\n",
      "  Pérdida: Train = 0.0702 | Test = 0.4123\n",
      "  Precisión: Train = 99.78% | Test = 91.23%\n",
      "  Error: entrenamiento: 0.2155% | error test: 8.7725%\n",
      "--------------------------------------------------\n",
      "VRAM usada: 193.15 MB\n",
      "\n",
      "Época 43/50\n"
     ]
    },
    {
     "name": "stderr",
     "output_type": "stream",
     "text": [
      "Entrenamiento: 100%|██████████| 2698/2698 [04:06<00:00, 10.93batch/s, perdida=0.332, precision=99.84%] \n",
      "Prueba: 100%|██████████| 902/902 [00:36<00:00, 24.98it/s]\n"
     ]
    },
    {
     "name": "stdout",
     "output_type": "stream",
     "text": [
      "\n",
      "Resumen Época 43:\n",
      "  Pérdida: Train = 0.0674 | Test = 0.4136\n",
      "  Precisión: Train = 99.84% | Test = 90.83%\n",
      "  Error: entrenamiento: 0.1611% | error test: 9.1674%\n",
      "--------------------------------------------------\n",
      "VRAM usada: 193.15 MB\n",
      "\n",
      "Época 44/50\n"
     ]
    },
    {
     "name": "stderr",
     "output_type": "stream",
     "text": [
      "Entrenamiento: 100%|██████████| 2698/2698 [02:34<00:00, 17.41batch/s, perdida=0.594, precision=99.81%] \n",
      "Prueba: 100%|██████████| 902/902 [00:34<00:00, 25.80it/s]\n"
     ]
    },
    {
     "name": "stdout",
     "output_type": "stream",
     "text": [
      "\n",
      "Resumen Época 44:\n",
      "  Pérdida: Train = 0.0644 | Test = 0.4124\n",
      "  Precisión: Train = 99.81% | Test = 90.94%\n",
      "  Error: entrenamiento: 0.1923% | error test: 9.0566%\n",
      "--------------------------------------------------\n",
      "VRAM usada: 193.15 MB\n",
      "\n",
      "Época 45/50\n"
     ]
    },
    {
     "name": "stderr",
     "output_type": "stream",
     "text": [
      "Entrenamiento: 100%|██████████| 2698/2698 [03:23<00:00, 13.23batch/s, perdida=0.552, precision=99.84%] \n",
      "Prueba: 100%|██████████| 902/902 [00:46<00:00, 19.54it/s]\n"
     ]
    },
    {
     "name": "stdout",
     "output_type": "stream",
     "text": [
      "\n",
      "Resumen Época 45:\n",
      "  Pérdida: Train = 0.0617 | Test = 0.4031\n",
      "  Precisión: Train = 99.84% | Test = 91.22%\n",
      "  Error: entrenamiento: 0.1553% | error test: 8.7794%\n",
      "--------------------------------------------------\n",
      "VRAM usada: 193.15 MB\n",
      "\n",
      "Época 46/50\n"
     ]
    },
    {
     "name": "stderr",
     "output_type": "stream",
     "text": [
      "Entrenamiento: 100%|██████████| 2698/2698 [02:46<00:00, 16.18batch/s, perdida=1.54, precision=99.84%]  \n",
      "Prueba: 100%|██████████| 902/902 [00:35<00:00, 25.30it/s]\n"
     ]
    },
    {
     "name": "stdout",
     "output_type": "stream",
     "text": [
      "\n",
      "Resumen Época 46:\n",
      "  Pérdida: Train = 0.0600 | Test = 0.4087\n",
      "  Precisión: Train = 99.84% | Test = 91.09%\n",
      "  Error: entrenamiento: 0.1645% | error test: 8.9145%\n",
      "--------------------------------------------------\n",
      "VRAM usada: 193.15 MB\n",
      "\n",
      "Época 47/50\n"
     ]
    },
    {
     "name": "stderr",
     "output_type": "stream",
     "text": [
      "Entrenamiento: 100%|██████████| 2698/2698 [03:06<00:00, 14.49batch/s, perdida=0.346, precision=99.82%] \n",
      "Prueba: 100%|██████████| 902/902 [01:20<00:00, 11.17it/s]\n"
     ]
    },
    {
     "name": "stdout",
     "output_type": "stream",
     "text": [
      "\n",
      "Resumen Época 47:\n",
      "  Pérdida: Train = 0.0632 | Test = 0.3974\n",
      "  Precisión: Train = 99.82% | Test = 91.38%\n",
      "  Error: entrenamiento: 0.1784% | error test: 8.6235%\n",
      "--------------------------------------------------\n",
      "VRAM usada: 193.15 MB\n",
      "\n",
      "Época 48/50\n"
     ]
    },
    {
     "name": "stderr",
     "output_type": "stream",
     "text": [
      "Entrenamiento: 100%|██████████| 2698/2698 [03:06<00:00, 14.43batch/s, perdida=1.15, precision=99.84%]  \n",
      "Prueba: 100%|██████████| 902/902 [00:59<00:00, 15.21it/s]\n"
     ]
    },
    {
     "name": "stdout",
     "output_type": "stream",
     "text": [
      "\n",
      "Resumen Época 48:\n",
      "  Pérdida: Train = 0.0566 | Test = 0.4070\n",
      "  Precisión: Train = 99.84% | Test = 90.86%\n",
      "  Error: entrenamiento: 0.1587% | error test: 9.1432%\n",
      "--------------------------------------------------\n",
      "VRAM usada: 193.15 MB\n",
      "\n",
      "Época 49/50\n"
     ]
    },
    {
     "name": "stderr",
     "output_type": "stream",
     "text": [
      "Entrenamiento: 100%|██████████| 2698/2698 [03:36<00:00, 12.48batch/s, perdida=0.26, precision=99.84%]  \n",
      "Prueba: 100%|██████████| 902/902 [00:38<00:00, 23.18it/s]\n"
     ]
    },
    {
     "name": "stdout",
     "output_type": "stream",
     "text": [
      "\n",
      "Resumen Época 49:\n",
      "  Pérdida: Train = 0.0594 | Test = 0.3982\n",
      "  Precisión: Train = 99.84% | Test = 91.26%\n",
      "  Error: entrenamiento: 0.1553% | error test: 8.7413%\n",
      "--------------------------------------------------\n",
      "VRAM usada: 193.15 MB\n",
      "\n",
      "Época 50/50\n"
     ]
    },
    {
     "name": "stderr",
     "output_type": "stream",
     "text": [
      "Entrenamiento: 100%|██████████| 2698/2698 [02:53<00:00, 15.59batch/s, perdida=0.34, precision=99.87%]  \n",
      "Prueba: 100%|██████████| 902/902 [00:34<00:00, 26.08it/s]\n"
     ]
    },
    {
     "name": "stdout",
     "output_type": "stream",
     "text": [
      "\n",
      "Resumen Época 50:\n",
      "  Pérdida: Train = 0.0543 | Test = 0.3998\n",
      "  Precisión: Train = 99.87% | Test = 90.97%\n",
      "  Error: entrenamiento: 0.1275% | error test: 9.0323%\n",
      "--------------------------------------------------\n"
     ]
    },
    {
     "data": {
      "image/png": "[encoded data removed]",
      "text/plain": [
       "<Figure size 1200x500 with 2 Axes>"
      ]
     },
     "metadata": {},
     "output_type": "display_data"
    },
    {
     "name": "stdout",
     "output_type": "stream",
     "text": [
      "Modelo guardado como 'modelo_frutas_final.pth'\n"
     ]
    },
    {
     "name": "stderr",
     "output_type": "stream",
     "text": [
      "Prueba: 100%|██████████| 902/902 [00:36<00:00, 24.52it/s]\n"
     ]
    },
    {
     "name": "stdout",
     "output_type": "stream",
     "text": [
      "\n",
      "--- Resultado Final en Test ---\n",
      "  Pérdida: 0.3998\n",
      "  Precisión: 90.97%\n",
      "porcentaje de error: 9.03%\n"
     ]
    }
   ],
   "source": [
    "    \n",
    "perdidas_entrenamiento = []\n",
    "precisiones_entrenamiento = []\n",
    "perdidas_prueba = []\n",
    "precisiones_prueba = []\n",
    "epocas = 50  # Número de épocas\n",
    "for epoca in range(epocas):\n",
    "    torch.cuda.empty_cache()  # Limpia memoria antes de cada época\n",
    "    print(f\"VRAM usada: {torch.cuda.memory_allocated() / 1024**2:.2f} MB\")\n",
    "    #verificar_temperatura()  # Verificar temperatura antes de cada época\n",
    "    print(f\"\\nÉpoca {epoca + 1}/{epocas}\")\n",
    "    \n",
    "    # Entrenamiento\n",
    "    perdida_ent, precision_ent, train_error = entrenar_epoca(\n",
    "        model, train_loader, optimizer, criterion, device\n",
    "    )\n",
    "    \n",
    "    perdidas_entrenamiento.append(perdida_ent)\n",
    "    precisiones_entrenamiento.append(precision_ent)\n",
    "\n",
    "    # 2. Evaluación en Test (opcional: cada X épocas para ahorrar tiempo)\n",
    "    if (epoca + 1) % 1 == 0:  # Evalúa cada época\n",
    "        perdida_test, precision_test, test_error = evaluar(\n",
    "            model, test_loader, criterion, device\n",
    "        )\n",
    "        perdidas_prueba.append(perdida_test)\n",
    "        precisiones_prueba.append(precision_test)\n",
    "\n",
    "    # 3. Mostrar resumen\n",
    "    print(f\"\\nResumen Época {epoca + 1}:\")\n",
    "    print(f\"  Pérdida: Train = {perdida_ent:.4f} | Test = {perdida_test:.4f}\")\n",
    "    print(f\"  Precisión: Train = {precision_ent:.2f}% | Test = {precision_test:.2f}%\")\n",
    "    print(f\"  Error: entrenamiento: {train_error:.4f}% | error test: {test_error:.4f}%\")\n",
    "    print(\"-\" * 50)\n",
    "\n",
    "    # 4. Verificar condición de parada temprana\n",
    "    #if precision_test >= 90 and test_error <= 5:\n",
    "   #     print(f\"✅ Criterios alcanzados: Precisión test {precision_test:.2f}% y error test {test_error:.2f}%\")\n",
    "  #      print(\"🛑 Deteniendo entrenamiento.\")\n",
    " #       break  # Salir del bucle de entrenamiento\n",
    "#scheduler.step(perdida_test)\n",
    "\n",
    "\n",
    "\n",
    "graficar_resultados(\n",
    "    perdidas_entrenamiento, precisiones_entrenamiento,\n",
    "    perdidas_prueba, precisiones_prueba\n",
    ")\n",
    "\n",
    "torch.save(model.state_dict(), \"modelo_frutas_final.pth\")\n",
    "print(\"Modelo guardado como 'modelo_frutas_final.pth'\")\n",
    "\n",
    "perdida_final, precision_final, error = evaluar(model, test_loader, criterion, device)\n",
    "print(f\"\\n--- Resultado Final en Test ---\")\n",
    "print(f\"  Pérdida: {perdida_final:.4f}\")\n",
    "print(f\"  Precisión: {precision_final:.2f}%\")\n",
    "print(f\"porcentaje de error: {error:.2f}%\")"
   ]
  },
  {
   "cell_type": "markdown",
   "metadata": {},
   "source": [
    "# Graficar resultados"
   ]
  },
  {
   "cell_type": "code",
   "execution_count": 49,
   "metadata": {},
   "outputs": [
    {
     "data": {
      "image/png": "[encoded data removed]",
      "text/plain": [
       "<Figure size 1200x500 with 2 Axes>"
      ]
     },
     "metadata": {},
     "output_type": "display_data"
    }
   ],
   "source": [
    "graficar_resultados(\n",
    "    perdidas_entrenamiento, precisiones_entrenamiento,\n",
    "    perdidas_prueba, precisiones_prueba\n",
    ")"
   ]
  },
  {
   "cell_type": "markdown",
   "metadata": {},
   "source": [
    "# Guardar modelo"
   ]
  },
  {
   "cell_type": "code",
   "execution_count": 50,
   "metadata": {},
   "outputs": [
    {
     "name": "stdout",
     "output_type": "stream",
     "text": [
      "Modelo guardado como 'modelo_frutas_final.pth'\n"
     ]
    }
   ],
   "source": [
    "torch.save(model.state_dict(), \"modelo_frutas_final.pth\")\n",
    "print(\"Modelo guardado como 'modelo_frutas_final.pth'\")"
   ]
  },
  {
   "cell_type": "markdown",
   "metadata": {},
   "source": [
    "# Evaluación FINAL en Test"
   ]
  },
  {
   "cell_type": "code",
   "execution_count": 51,
   "metadata": {},
   "outputs": [
    {
     "name": "stderr",
     "output_type": "stream",
     "text": [
      "Prueba: 100%|██████████| 902/902 [00:37<00:00, 24.12it/s]"
     ]
    },
    {
     "name": "stdout",
     "output_type": "stream",
     "text": [
      "\n",
      "--- Resultado Final en Test ---\n",
      "  Pérdida: 0.3998\n",
      "  Precisión: 90.97%\n",
      "porcentaje de error: 9.03%\n"
     ]
    },
    {
     "name": "stderr",
     "output_type": "stream",
     "text": [
      "\n"
     ]
    }
   ],
   "source": [
    "perdida_final, precision_final, error = evaluar(model, test_loader, criterion, device)\n",
    "print(f\"\\n--- Resultado Final en Test ---\")\n",
    "print(f\"  Pérdida: {perdida_final:.4f}\")\n",
    "print(f\"  Precisión: {precision_final:.2f}%\")\n",
    "print(f\"porcentaje de error: {error:.2f}%\")"
   ]
  },
  {
   "cell_type": "code",
   "execution_count": 52,
   "metadata": {},
   "outputs": [
    {
     "name": "stdout",
     "output_type": "stream",
     "text": [
      "Etiquetas: ['Apple 10', 'Apple 12', 'Apple 13', 'Apple 14', 'Apple 17', 'Apple 19', 'Apple 6', 'Apple 9', 'Apple Braeburn 1', 'Apple Core 1', 'Apple Crimson Snow 1', 'Apple Golden 1', 'Apple Golden 2', 'Apple Golden 3', 'Apple Granny Smith 1', 'Apple Pink Lady 1', 'Apple Red 1', 'Apple Red 2', 'Apple Red 3', 'Apple Red Delicious 1', 'Apple Red Yellow 1', 'Apple Red Yellow 2', 'Apple Rotten 1', 'Apple hit 1', 'Apple worm 1', 'Apricot 1', 'Avocado 1', 'Avocado ripe 1', 'Banana 1', 'Banana 3', 'Banana Lady Finger 1', 'Banana Red 1', 'Beans 1', 'Beetroot 1', 'Blackberrie 1', 'Blackberrie 2', 'Blackberrie half rippen 1', 'Blackberrie not rippen 1', 'Blueberry 1', 'Cabbage red 1', 'Cabbage white 1', 'Cactus fruit 1', 'Cactus fruit green 1', 'Cactus fruit red 1', 'Cantaloupe 1', 'Cantaloupe 2', 'Carambula 1', 'Carrot 1', 'Cauliflower 1', 'Cherimoya 1', 'Cherry 1', 'Cherry 2', 'Cherry Rainier 1', 'Cherry Wax Black 1', 'Cherry Wax Red 1', 'Cherry Wax Yellow 1', 'Cherry Wax not rippen 1', 'Chestnut 1', 'Clementine 1', 'Cocos 1', 'Corn 1', 'Corn Husk 1', 'Cucumber 1', 'Cucumber 10', 'Cucumber 3', 'Cucumber 9', 'Cucumber Ripe 1', 'Cucumber Ripe 2', 'Dates 1', 'Eggplant 1', 'Eggplant long 1', 'Fig 1', 'Ginger Root 1', 'Gooseberry 1', 'Granadilla 1', 'Grape Blue 1', 'Grape Pink 1', 'Grape White 1', 'Grape White 2', 'Grape White 3', 'Grape White 4', 'Grapefruit Pink 1', 'Grapefruit White 1', 'Guava 1', 'Hazelnut 1', 'Huckleberry 1', 'Kaki 1', 'Kiwi 1', 'Kohlrabi 1', 'Kumquats 1', 'Lemon 1', 'Lemon Meyer 1', 'Limes 1', 'Lychee 1', 'Mandarine 1', 'Mango 1', 'Mango Red 1', 'Mangostan 1', 'Maracuja 1', 'Melon Piel de Sapo 1', 'Mulberry 1', 'Nectarine 1', 'Nectarine Flat 1', 'Nut Forest 1', 'Nut Pecan 1', 'Onion Red 1', 'Onion Red Peeled 1', 'Onion White 1', 'Orange 1', 'Papaya 1', 'Passion Fruit 1', 'Peach 1', 'Peach 2', 'Peach Flat 1', 'Pear 1', 'Pear 2', 'Pear 3', 'Pear Abate 1', 'Pear Forelle 1', 'Pear Kaiser 1', 'Pear Monster 1', 'Pear Red 1', 'Pear Stone 1', 'Pear Williams 1', 'Pepino 1', 'Pepper Green 1', 'Pepper Orange 1', 'Pepper Red 1', 'Pepper Yellow 1', 'Physalis 1', 'Physalis with Husk 1', 'Pineapple 1', 'Pineapple Mini 1', 'Pistachio 1', 'Pitahaya Red 1', 'Plum 1', 'Plum 2', 'Plum 3', 'Pomegranate 1', 'Pomelo Sweetie 1', 'Potato Red 1', 'Potato Red Washed 1', 'Potato Sweet 1', 'Potato White 1', 'Quince 1', 'Quince 2', 'Quince 3', 'Quince 4', 'Rambutan 1', 'Raspberry 1', 'Redcurrant 1', 'Salak 1', 'Strawberry 1', 'Strawberry Wedge 1', 'Tamarillo 1', 'Tangelo 1', 'Tomato 1', 'Tomato 2', 'Tomato 3', 'Tomato 4', 'Tomato Cherry Red 1', 'Tomato Heart 1', 'Tomato Maroon 1', 'Tomato Yellow 1', 'Tomato not Ripened 1', 'Walnut 1', 'Watermelon 1', 'Zucchini 1', 'Zucchini dark 1']\n"
     ]
    }
   ],
   "source": [
    "# creamos las etiquetas\n",
    "etiquetas = train_dataset.classes  # Etiquetas de las clases\n",
    "print(\"Etiquetas:\", etiquetas)"
   ]
  },
  {
   "cell_type": "markdown",
   "metadata": {},
   "source": [
    "# cargar y probar el modelo con una imagen cualquiera\n",
    "1️⃣ Cargar el modelo entrenado"
   ]
  },
  {
   "cell_type": "code",
   "execution_count": 53,
   "metadata": {},
   "outputs": [
    {
     "data": {
      "text/plain": [
       "FruitMLP(\n",
       "  (layers): Sequential(\n",
       "    (0): Flatten(start_dim=1, end_dim=-1)\n",
       "    (1): Linear(in_features=30000, out_features=512, bias=True)\n",
       "    (2): BatchNorm1d(512, eps=1e-05, momentum=0.1, affine=True, track_running_stats=True)\n",
       "    (3): ReLU()\n",
       "    (4): Dropout(p=0.5, inplace=False)\n",
       "    (5): Linear(in_features=512, out_features=128, bias=True)\n",
       "    (6): BatchNorm1d(128, eps=1e-05, momentum=0.1, affine=True, track_running_stats=True)\n",
       "    (7): ReLU()\n",
       "    (8): Linear(in_features=128, out_features=169, bias=True)\n",
       "  )\n",
       ")"
      ]
     },
     "execution_count": 53,
     "metadata": {},
     "output_type": "execute_result"
    }
   ],
   "source": [
    "# Cargar el modelo\n",
    "modelo_cargado = FruitMLP() # Crear una nueva instancia del modelo\n",
    "modelo_cargado.load_state_dict(torch.load(\"modelo_frutas_final.pth\")) # Cargar los pesos\n",
    "modelo_cargado.eval()  # Poner en modo evaluación\n",
    "\n",
    "modelo_cargado.to(device)  # Mover el modelo al mismo dispositivo que la imagen\n"
   ]
  },
  {
   "cell_type": "markdown",
   "metadata": {},
   "source": [
    "2️⃣ Cargar una imagen de prueba\n",
    "Usaremos PIL y torchvision para cargar y preprocesar la imagen."
   ]
  },
  {
   "cell_type": "code",
   "execution_count": 54,
   "metadata": {},
   "outputs": [],
   "source": [
    "from PIL import Image\n",
    "import torchvision.transforms as transforms\n",
    "\n",
    "# Transformaciones para la imagen (ajustar según tu modelo)\n",
    "transformaciones = transforms.Compose([\n",
    "    transforms.Resize((100, 100)),  # Ajustar tamaño\n",
    "    transforms.ToTensor(),  # Convertir a tensor\n",
    "    transforms.Normalize(mean= Media, std= Std)  # Normalizar\n",
    "])\n",
    "\n",
    "# Cargar imagen Apple hit 1\n",
    "imagen = Image.open(\"C:/Users/OMEN/Downloads/26_100.jpg\")  # Reemplaza con tu imagen\n",
    "# imagen = Image.open(\"./Avocado 1.jpg\")  # Reemplaza con tu imagen\n",
    "imagen_mostrar = imagen\n",
    "imagen = transformaciones(imagen)\n",
    "imagen = imagen.unsqueeze(0)  # Agregar dimensión batch\n",
    "imagen = imagen.to(device)  # Mover a GPU/CPU"
   ]
  },
  {
   "cell_type": "markdown",
   "metadata": {},
   "source": [
    "3️⃣ Realizar la predicción"
   ]
  },
  {
   "cell_type": "code",
   "execution_count": 56,
   "metadata": {},
   "outputs": [
    {
     "name": "stdout",
     "output_type": "stream",
     "text": [
      "La imagen fue clasificada como la clase: Cherry 2\n"
     ]
    },
    {
     "data": {
      "text/plain": [
       "(np.float64(-0.5), np.float64(99.5), np.float64(99.5), np.float64(-0.5))"
      ]
     },
     "execution_count": 56,
     "metadata": {},
     "output_type": "execute_result"
    },
    {
     "data": {
      "image/png": "[encoded data removed]",
      "text/plain": [
       "<Figure size 640x480 with 1 Axes>"
      ]
     },
     "metadata": {},
     "output_type": "display_data"
    }
   ],
   "source": [
    "with torch.no_grad():  # Desactivar gradientes para inferencia\n",
    "    salida = modelo_cargado(imagen)\n",
    "    prediccion = torch.argmax(salida, dim=1).item()  # Obtener la clase con mayor probabilidad\n",
    "\n",
    "print(f\"La imagen fue clasificada como la clase: {etiquetas[prediccion]}\")\n",
    "\n",
    "# mostrar la imagen de estudio\n",
    "plt.imshow(imagen_mostrar)\n",
    "plt.axis('off')"
   ]
  },
  {
   "cell_type": "code",
   "execution_count": null,
   "metadata": {},
   "outputs": [
    {
     "name": "stdout",
     "output_type": "stream",
     "text": [
      "La imagen fue clasificada como la clase: Cherry 2\n"
     ]
    },
    {
     "data": {
      "text/plain": [
       "(np.float64(-0.5), np.float64(99.5), np.float64(99.5), np.float64(-0.5))"
      ]
     },
     "metadata": {},
     "output_type": "display_data"
    },
    {
     "data": {
      "image/png": "[encoded data removed]",
      "text/plain": [
       "<Figure size 640x480 with 1 Axes>"
      ]
     },
     "metadata": {},
     "output_type": "display_data"
    }
   ],
   "source": [
    "with torch.no_grad():  # Desactivar gradientes para inferencia\n",
    "    salida = modelo_cargado(imagen)\n",
    "    prediccion = torch.argmax(salida, dim=1).item()  # Obtener la clase con mayor probabilidad\n",
    "\n",
    "print(f\"La imagen fue clasificada como la clase: {etiquetas[prediccion]}\")\n",
    "\n",
    "# mostrar la imagen de estudio\n",
    "plt.imshow(imagen_mostrar)\n",
    "plt.axis('off')"
   ]
  }
 ],
 "metadata": {
  "kernelspec": {
   "display_name": "Python 3",
   "language": "python",
   "name": "python3"
  },
  "language_info": {
   "codemirror_mode": {
    "name": "ipython",
    "version": 3
   },
   "file_extension": ".py",
   "mimetype": "text/x-python",
   "name": "python",
   "nbconvert_exporter": "python",
   "pygments_lexer": "ipython3",
   "version": "3.12.9"
  }
 },
 "nbformat": 4,
 "nbformat_minor": 2
}
